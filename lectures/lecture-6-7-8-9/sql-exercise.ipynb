{
 "cells": [
  {
   "cell_type": "code",
   "execution_count": null,
   "metadata": {},
   "outputs": [],
   "source": [
    "%load_ext sql\n",
    "%sql sqlite:///enterprise_data.db"
   ]
  },
  {
   "cell_type": "markdown",
   "metadata": {},
   "source": [
    "Here is the ERD used in this notebook.\n",
    "\n",
    "![title](sql-exercise-erd.jpg)"
   ]
  },
  {
   "cell_type": "code",
   "execution_count": null,
   "metadata": {},
   "outputs": [],
   "source": [
    "%%sql\n",
    "DROP TABLE IF EXISTS DEPARTMENT;\n",
    "CREATE TABLE DEPARTMENT (\n",
    "    DNAME    VARCHAR(15) NOT NULL,\n",
    "    DNUMBER INT NOT NULL,\n",
    "    MGRSSN CHAR(9), \n",
    "    MGRSTARTDATE DATE,\n",
    "    PRIMARY KEY(DNUMBER),\n",
    "    FOREIGN KEY (MGRSSN) REFERENCES EMPLOYEE(SSN)\n",
    ");\n",
    "INSERT INTO DEPARTMENT (DNAME, DNUMBER, MGRSSN, MGRSTARTDATE) VALUES ('Headquarters', 1, NULL, NULL); \n",
    "INSERT INTO DEPARTMENT (DNAME, DNUMBER, MGRSSN, MGRSTARTDATE) VALUES ('Research', 5, NULL, NULL); \n",
    "INSERT INTO DEPARTMENT (DNAME, DNUMBER, MGRSSN, MGRSTARTDATE) VALUES ('Administration', 4, NULL, NULL); \n",
    "\n",
    "DROP TABLE IF EXISTS EMPLOYEE;\n",
    "CREATE TABLE EMPLOYEE (\n",
    "  FNAME VARCHAR(15) NOT NULL,\n",
    "  MINIT CHAR(1),\n",
    "  LNAME VARCHAR(15) NOT NULL,\n",
    "  SSN CHAR(9)   NOT NULL,\n",
    "  BDATE    DATE,   \n",
    "  ADDRESS    VARCHAR(30),\n",
    "  SEX      CHAR(1),\n",
    "  SALARY    DECIMAL(10,2),\n",
    "  SUPERSSN  CHAR(9),\n",
    "  DNO      INT      NOT NULL,\n",
    "  PRIMARY KEY (SSN),\n",
    "  FOREIGN KEY (DNO) REFERENCES DEPARTMENT(DNUMBER),\n",
    "  FOREIGN KEY (SUPERSSN) REFERENCES EMPLOYEE(SSN)\n",
    ");\n",
    "\n",
    "INSERT INTO EMPLOYEE (FNAME, MINIT, LNAME, SSN, BDATE, ADDRESS, SEX, SALARY, SUPERSSN, DNO) \n",
    "VALUES ('James', 'E', 'Borg', '888665555', '1927-11-10', '50 Stone, Houston, TX', 'M', 55000, NULL, 1);\n",
    "INSERT INTO EMPLOYEE (FNAME, MINIT, LNAME, SSN, BDATE, ADDRESS, SEX, SALARY, SUPERSSN, DNO) \n",
    "VALUES ('Franklin', 'T', 'Wong', '333445555', '1945-12-08', '638 Voss, Houston, TX', 'M', 40000, '888665555', 5);\n",
    "INSERT INTO EMPLOYEE (FNAME, MINIT, LNAME, SSN, BDATE, ADDRESS, SEX, SALARY, SUPERSSN, DNO) \n",
    "VALUES ('Jennifer', 'S', 'Wallace', '987654321', '1931-06-20', '291 Berry, Bellaire, TX', 'F', 43000, '888665555', 4);\n",
    " \n",
    "UPDATE DEPARTMENT SET MGRSSN = '888665555', MGRSTARTDATE = '19-JUN-71' WHERE DNUMBER = 1; \n",
    "UPDATE DEPARTMENT SET MGRSSN = '333445555', MGRSTARTDATE = '22-MAY-78' WHERE DNUMBER = 5; \n",
    "UPDATE DEPARTMENT SET MGRSSN = '987654321', MGRSTARTDATE = '01-JAN-85' WHERE DNUMBER = 4; \n",
    "\n",
    "INSERT INTO EMPLOYEE (FNAME, MINIT, LNAME, SSN, BDATE, ADDRESS, SEX, SALARY, SUPERSSN, DNO) \n",
    "VALUES ('John', 'B', 'Smith', '123456789', '1955-01-09', '731 Fondren Houston, TX', 'M', 30000, '3334455555', 5);\n",
    "INSERT INTO EMPLOYEE (FNAME, MINIT, LNAME, SSN, BDATE, ADDRESS, SEX, SALARY, SUPERSSN, DNO) \n",
    "VALUES ('Ramesh', 'K', 'Narayan', '666884444', '1952-09-15', '975 Fire Oak, Humble, TX', 'M', 38000, '333445555', 5);\n",
    "INSERT INTO EMPLOYEE (FNAME, MINIT, LNAME, SSN, BDATE, ADDRESS, SEX, SALARY, SUPERSSN, DNO) \n",
    "VALUES ('Joyce', 'A', 'English', '453453453', '1962-07-31', '5631 Rice, Houston, TX', 'F', 25000, '333445555', 5);\n",
    "INSERT INTO EMPLOYEE (FNAME, MINIT, LNAME, SSN, BDATE, ADDRESS, SEX, SALARY, SUPERSSN, DNO) \n",
    "VALUES ('Alicia', 'J', 'Zalaya', '999887777', '1958-07-19', '3321 Castle, Spring, TX', 'F', 25000, '987654321', 4);\n",
    "INSERT INTO EMPLOYEE (FNAME, MINIT, LNAME, SSN, BDATE, ADDRESS, SEX, SALARY, SUPERSSN, DNO) \n",
    "VALUES ('Ahmad', 'V', 'Jabbar', '987987987', '1959-03-29', '985 Dallas, Houston, TX', 'M', 25000, '987654321', 4);\n",
    "\n",
    "DROP TABLE IF EXISTS DEPT_LOCATIONS;\n",
    "CREATE TABLE DEPT_LOCATIONS (\n",
    "    DNUMBER       INT      NOT NULL,\n",
    "  DLOCATION  VARCHAR(15)  NOT NULL,\n",
    "  PRIMARY KEY (DNUMBER, DLOCATION),\n",
    "  FOREIGN KEY (DNUMBER) REFERENCES DEPARTMENT (DNUMBER)\n",
    ");\n",
    " \n",
    "INSERT INTO DEPT_LOCATIONS VALUES (1, 'Houston'); \n",
    "INSERT INTO DEPT_LOCATIONS VALUES (4, 'Stafford'); \n",
    "INSERT INTO DEPT_LOCATIONS VALUES (5, 'Bellaire'); \n",
    "INSERT INTO DEPT_LOCATIONS VALUES (5, 'Sugarland'); \n",
    "INSERT INTO DEPT_LOCATIONS VALUES (5, 'Houston'); \n",
    "\n",
    "DROP TABLE IF EXISTS PROJECT;\n",
    "CREATE TABLE PROJECT (\n",
    "    PNAME    VARCHAR(15)  NOT NULL,\n",
    "  PNUMBER      INT      NOT NULL,\n",
    "  PLOCATION  VARCHAR(15),\n",
    "  DNUM      INT      NOT NULL,\n",
    "  PRIMARY KEY (PNUMBER),\n",
    "  FOREIGN KEY (DNUM) REFERENCES DEPARTMENT (DNUMBER)\n",
    ");\n",
    " \n",
    "INSERT INTO PROJECT (PNAME, PNUMBER, PLOCATION, DNUM) VALUES ('ProductX', 1, 'Bellaire', 5); \n",
    "INSERT INTO PROJECT (PNAME, PNUMBER, PLOCATION, DNUM) VALUES ('ProductY', 2, 'Sugarland', 5); \n",
    "INSERT INTO PROJECT (PNAME, PNUMBER, PLOCATION, DNUM) VALUES ('ProductZ', 3, 'Houston', 5); \n",
    "INSERT INTO PROJECT (PNAME, PNUMBER, PLOCATION, DNUM) VALUES ('Computerization', 10, 'Stafford', 4); \n",
    "INSERT INTO PROJECT (PNAME, PNUMBER, PLOCATION, DNUM) VALUES ('Reorganization', 20, 'Houston', 1); \n",
    "INSERT INTO PROJECT (PNAME, PNUMBER, PLOCATION, DNUM) VALUES ('NewBenefits', 30, 'Stafford', 4); \n",
    "\n",
    "DROP TABLE IF EXISTS WORKS_ON;\n",
    "CREATE TABLE WORKS_ON (\n",
    "    ESSN    CHAR(9)  NOT NULL,\n",
    "  PNO      INT    NOT NULL,\n",
    "  HOURS    DECIMAL (3, 1),\n",
    "  PRIMARY KEY (ESSN, PNO),\n",
    "  FOREIGN KEY (ESSN) REFERENCES EMPLOYEE (SSN),\n",
    "  FOREIGN KEY (PNO) REFERENCES PROJECT (PNUMBER)\n",
    "); \n",
    " \n",
    "INSERT INTO WORKS_ON (ESSN, PNO, HOURS) VALUES ('123456789', 1, 32.5);\n",
    "INSERT INTO WORKS_ON (ESSN, PNO, HOURS) VALUES ('123456789', 2, 7.5);\n",
    "--INSERT INTO WORKS_ON (ESSN, PNO, HOURS) VALUES ('123456789', 3, 8.5);\n",
    "INSERT INTO WORKS_ON (ESSN, PNO, HOURS) VALUES ('666884444', 3, 40.0);\n",
    "INSERT INTO WORKS_ON (ESSN, PNO, HOURS) VALUES ('453453453', 1, 20.0);\n",
    "INSERT INTO WORKS_ON (ESSN, PNO, HOURS) VALUES ('453453453', 2, 20.0);\n",
    "INSERT INTO WORKS_ON (ESSN, PNO, HOURS) VALUES ('333445555', 2, 10.0);\n",
    "INSERT INTO WORKS_ON (ESSN, PNO, HOURS) VALUES ('333445555', 3, 10.0);\n",
    "INSERT INTO WORKS_ON (ESSN, PNO, HOURS) VALUES ('333445555', 10, 10.0);\n",
    "INSERT INTO WORKS_ON (ESSN, PNO, HOURS) VALUES ('333445555', 20, 10.0);\n",
    "INSERT INTO WORKS_ON (ESSN, PNO, HOURS) VALUES ('999887777', 30, 30.0);\n",
    "INSERT INTO WORKS_ON (ESSN, PNO, HOURS) VALUES ('999887777', 10, 30.0);\n",
    "INSERT INTO WORKS_ON (ESSN, PNO, HOURS) VALUES ('987987987', 10, 35.0);\n",
    "INSERT INTO WORKS_ON (ESSN, PNO, HOURS) VALUES ('987987987', 30, 5.0);\n",
    "INSERT INTO WORKS_ON (ESSN, PNO, HOURS) VALUES ('987654321', 30, 20.0);\n",
    "INSERT INTO WORKS_ON (ESSN, PNO, HOURS) VALUES ('987654321', 20, 15.0);\n",
    "INSERT INTO WORKS_ON (ESSN, PNO, HOURS) VALUES ('888665555', 20, null);\n",
    "\n",
    "DROP TABLE IF EXISTS DEPENDENT;\n",
    "CREATE TABLE DEPENDENT (\n",
    "    ESSN      CHAR(9)    NOT NULL,\n",
    "  DEPENDENT_NAME    VARCHAR(15)  NOT NULL,\n",
    "  SEX        CHAR(1),\n",
    "  BDATE      DATE,\n",
    "  RELATIONSHIP  VARCHAR(8),\n",
    "  PRIMARY KEY(ESSN, DEPENDENT_NAME),\n",
    "  FOREIGN KEY (ESSN) REFERENCES EMPLOYEE (SSN)\n",
    ");\n",
    " \n",
    "INSERT INTO DEPENDENT (ESSN, DEPENDENT_NAME, SEX, BDATE, RELATIONSHIP) \n",
    "VALUES ('333445555', 'Alice', 'F', '05-APR-76', 'DAUGHTER'); \n",
    "INSERT INTO DEPENDENT (ESSN, DEPENDENT_NAME, SEX, BDATE, RELATIONSHIP) \n",
    "VALUES ('333445555', 'Theodore', 'M', '25-OCT-73', 'SON'); \n",
    "INSERT INTO DEPENDENT (ESSN, DEPENDENT_NAME, SEX, BDATE, RELATIONSHIP) \n",
    "VALUES ('333445555', 'Franklin', 'F', '03-MAY-48', 'SPOUSE'); \n",
    "INSERT INTO DEPENDENT (ESSN, DEPENDENT_NAME, SEX, BDATE, RELATIONSHIP) \n",
    "VALUES ('987654321', 'Abner', 'M', '29-FEB-32', 'SPOUSE'); \n",
    "INSERT INTO DEPENDENT (ESSN, DEPENDENT_NAME, SEX, BDATE, RELATIONSHIP) \n",
    "VALUES ('123456789', 'Michael', 'M', '01-JAN-78', 'SON');\n",
    "INSERT INTO DEPENDENT (ESSN, DEPENDENT_NAME, SEX, BDATE, RELATIONSHIP) \n",
    "VALUES ('123456789', 'Alice', 'F', '31-DEC-78', 'DAUGHTER'); \n",
    "INSERT INTO DEPENDENT (ESSN, DEPENDENT_NAME, SEX, BDATE, RELATIONSHIP) \n",
    "VALUES ('123456789', 'Elizabeth', 'F', '05-MAY-57', 'SPOUSE');"
   ]
  },
  {
   "cell_type": "markdown",
   "metadata": {},
   "source": [
    "Query 0: Retrieve the birthdate and address of the employee whose\n",
    "name is 'John B. Smith'."
   ]
  },
  {
   "cell_type": "code",
   "execution_count": null,
   "metadata": {},
   "outputs": [],
   "source": [
    "%%sql "
   ]
  },
  {
   "cell_type": "code",
   "execution_count": 100,
   "metadata": {},
   "outputs": [
    {
     "name": "stdout",
     "output_type": "stream",
     "text": [
      " * sqlite:///enterprise_data.db\n",
      "Done.\n"
     ]
    },
    {
     "data": {
      "text/html": [
       "<table>\n",
       "    <tr>\n",
       "        <th>BDATE</th>\n",
       "        <th>ADDRESS</th>\n",
       "    </tr>\n",
       "    <tr>\n",
       "        <td>1955-01-09</td>\n",
       "        <td>731 Fondren Houston, TX</td>\n",
       "    </tr>\n",
       "</table>"
      ],
      "text/plain": [
       "[(u'1955-01-09', u'731 Fondren Houston, TX')]"
      ]
     },
     "execution_count": 100,
     "metadata": {},
     "output_type": "execute_result"
    }
   ],
   "source": [
    "\"\"\"\n",
    "Expected output below\n",
    "\n",
    "Don't re-execute this cell!\n",
    "\"\"\""
   ]
  },
  {
   "cell_type": "markdown",
   "metadata": {},
   "source": [
    "Query 1: Retrieve the name and address of all employees who work for\n",
    "the 'Research' department."
   ]
  },
  {
   "cell_type": "code",
   "execution_count": null,
   "metadata": {},
   "outputs": [],
   "source": [
    "%%sql "
   ]
  },
  {
   "cell_type": "code",
   "execution_count": 6,
   "metadata": {},
   "outputs": [
    {
     "name": "stdout",
     "output_type": "stream",
     "text": [
      " * sqlite:///enterprise_data.db\n",
      "Done.\n"
     ]
    },
    {
     "data": {
      "text/html": [
       "<table>\n",
       "    <tr>\n",
       "        <th>FNAME</th>\n",
       "        <th>LNAME</th>\n",
       "        <th>ADDRESS</th>\n",
       "    </tr>\n",
       "    <tr>\n",
       "        <td>Franklin</td>\n",
       "        <td>Wong</td>\n",
       "        <td>638 Voss, Houston, TX</td>\n",
       "    </tr>\n",
       "    <tr>\n",
       "        <td>John</td>\n",
       "        <td>Smith</td>\n",
       "        <td>731 Fondren Houston, TX</td>\n",
       "    </tr>\n",
       "    <tr>\n",
       "        <td>Ramesh</td>\n",
       "        <td>Narayan</td>\n",
       "        <td>975 Fire Oak, Humble, TX</td>\n",
       "    </tr>\n",
       "    <tr>\n",
       "        <td>Joyce</td>\n",
       "        <td>English</td>\n",
       "        <td>5631 Rice, Houston, TX</td>\n",
       "    </tr>\n",
       "</table>"
      ],
      "text/plain": [
       "[(u'Franklin', u'Wong', u'638 Voss, Houston, TX'),\n",
       " (u'John', u'Smith', u'731 Fondren Houston, TX'),\n",
       " (u'Ramesh', u'Narayan', u'975 Fire Oak, Humble, TX'),\n",
       " (u'Joyce', u'English', u'5631 Rice, Houston, TX')]"
      ]
     },
     "execution_count": 6,
     "metadata": {},
     "output_type": "execute_result"
    }
   ],
   "source": [
    "\"\"\"\n",
    "Expected output below\n",
    "\n",
    "Don't re-execute this cell!\n",
    "\"\"\""
   ]
  },
  {
   "cell_type": "markdown",
   "metadata": {},
   "source": [
    "Query 2: For every project located in 'Stafford', list the project number, the\n",
    "controlling department number, and the department manager's last name,\n",
    "address, and birthdate."
   ]
  },
  {
   "cell_type": "code",
   "execution_count": null,
   "metadata": {},
   "outputs": [],
   "source": [
    "%%sql "
   ]
  },
  {
   "cell_type": "code",
   "execution_count": 98,
   "metadata": {},
   "outputs": [
    {
     "name": "stdout",
     "output_type": "stream",
     "text": [
      " * sqlite:///enterprise_data.db\n",
      "Done.\n"
     ]
    },
    {
     "data": {
      "text/html": [
       "<table>\n",
       "    <tr>\n",
       "        <th>PNUMBER</th>\n",
       "        <th>DNUM</th>\n",
       "        <th>LNAME</th>\n",
       "        <th>BDATE</th>\n",
       "        <th>ADDRESS</th>\n",
       "    </tr>\n",
       "    <tr>\n",
       "        <td>10</td>\n",
       "        <td>4</td>\n",
       "        <td>Wallace</td>\n",
       "        <td>1931-06-20</td>\n",
       "        <td>291 Berry, Bellaire, TX</td>\n",
       "    </tr>\n",
       "    <tr>\n",
       "        <td>30</td>\n",
       "        <td>4</td>\n",
       "        <td>Wallace</td>\n",
       "        <td>1931-06-20</td>\n",
       "        <td>291 Berry, Bellaire, TX</td>\n",
       "    </tr>\n",
       "</table>"
      ],
      "text/plain": [
       "[(10, 4, u'Wallace', u'1931-06-20', u'291 Berry, Bellaire, TX'),\n",
       " (30, 4, u'Wallace', u'1931-06-20', u'291 Berry, Bellaire, TX')]"
      ]
     },
     "execution_count": 98,
     "metadata": {},
     "output_type": "execute_result"
    }
   ],
   "source": [
    "\"\"\"\n",
    "Expected output below\n",
    "\n",
    "Don't re-execute this cell!\n",
    "\"\"\""
   ]
  },
  {
   "cell_type": "markdown",
   "metadata": {},
   "source": [
    "Query 3: For each employee, retrieve the employee's name, and the name\n",
    "of his or her immediate supervisor."
   ]
  },
  {
   "cell_type": "code",
   "execution_count": null,
   "metadata": {},
   "outputs": [],
   "source": [
    "%%sql "
   ]
  },
  {
   "cell_type": "code",
   "execution_count": 56,
   "metadata": {},
   "outputs": [
    {
     "name": "stdout",
     "output_type": "stream",
     "text": [
      " * sqlite:///enterprise_data.db\n",
      "Done.\n"
     ]
    },
    {
     "data": {
      "text/html": [
       "<table>\n",
       "    <tr>\n",
       "        <th>FNAME</th>\n",
       "        <th>LNAME</th>\n",
       "        <th>FNAME_1</th>\n",
       "        <th>LNAME_1</th>\n",
       "    </tr>\n",
       "    <tr>\n",
       "        <td>Franklin</td>\n",
       "        <td>Wong</td>\n",
       "        <td>James</td>\n",
       "        <td>Borg</td>\n",
       "    </tr>\n",
       "    <tr>\n",
       "        <td>Jennifer</td>\n",
       "        <td>Wallace</td>\n",
       "        <td>James</td>\n",
       "        <td>Borg</td>\n",
       "    </tr>\n",
       "    <tr>\n",
       "        <td>Ramesh</td>\n",
       "        <td>Narayan</td>\n",
       "        <td>Franklin</td>\n",
       "        <td>Wong</td>\n",
       "    </tr>\n",
       "    <tr>\n",
       "        <td>Joyce</td>\n",
       "        <td>English</td>\n",
       "        <td>Franklin</td>\n",
       "        <td>Wong</td>\n",
       "    </tr>\n",
       "    <tr>\n",
       "        <td>Alicia</td>\n",
       "        <td>Zalaya</td>\n",
       "        <td>Jennifer</td>\n",
       "        <td>Wallace</td>\n",
       "    </tr>\n",
       "    <tr>\n",
       "        <td>Ahmad</td>\n",
       "        <td>Jabbar</td>\n",
       "        <td>Jennifer</td>\n",
       "        <td>Wallace</td>\n",
       "    </tr>\n",
       "</table>"
      ],
      "text/plain": [
       "[(u'Franklin', u'Wong', u'James', u'Borg'),\n",
       " (u'Jennifer', u'Wallace', u'James', u'Borg'),\n",
       " (u'Ramesh', u'Narayan', u'Franklin', u'Wong'),\n",
       " (u'Joyce', u'English', u'Franklin', u'Wong'),\n",
       " (u'Alicia', u'Zalaya', u'Jennifer', u'Wallace'),\n",
       " (u'Ahmad', u'Jabbar', u'Jennifer', u'Wallace')]"
      ]
     },
     "execution_count": 56,
     "metadata": {},
     "output_type": "execute_result"
    }
   ],
   "source": [
    "\"\"\"\n",
    "Expected output below\n",
    "\n",
    "Don't re-execute this cell!\n",
    "\"\"\""
   ]
  },
  {
   "cell_type": "markdown",
   "metadata": {},
   "source": [
    "Query 4: Make a list of all project names for projects that involve an\n",
    "employee whose last name is 'Smith' as a worker or as a manager of\n",
    "the department that controls the project."
   ]
  },
  {
   "cell_type": "code",
   "execution_count": null,
   "metadata": {},
   "outputs": [],
   "source": [
    "%%sql "
   ]
  },
  {
   "cell_type": "code",
   "execution_count": 78,
   "metadata": {},
   "outputs": [
    {
     "name": "stdout",
     "output_type": "stream",
     "text": [
      " * sqlite:///enterprise_data.db\n",
      "Done.\n"
     ]
    },
    {
     "data": {
      "text/html": [
       "<table>\n",
       "    <tr>\n",
       "        <th>PNAME</th>\n",
       "    </tr>\n",
       "    <tr>\n",
       "        <td>ProductX</td>\n",
       "    </tr>\n",
       "    <tr>\n",
       "        <td>ProductY</td>\n",
       "    </tr>\n",
       "</table>"
      ],
      "text/plain": [
       "[(u'ProductX',), (u'ProductY',)]"
      ]
     },
     "execution_count": 78,
     "metadata": {},
     "output_type": "execute_result"
    }
   ],
   "source": [
    "\"\"\"\n",
    "Expected output below\n",
    "\n",
    "Don't re-execute this cell!\n",
    "\"\"\""
   ]
  },
  {
   "cell_type": "markdown",
   "metadata": {},
   "source": [
    "_The comparison operator **IN** compares a value v with a set (or multi-set)\n",
    "of values V, and evaluates to **TRUE** if v is one of the elements in V_\n",
    "\n",
    "_**EXISTS** is used to check whether the result of a correlated nested query is empty (contains no tuples) or not_\n",
    "\n",
    "Query 5: Retrieve the name of each employee who has a dependent\n",
    "with the same first name as the employee."
   ]
  },
  {
   "cell_type": "code",
   "execution_count": null,
   "metadata": {},
   "outputs": [],
   "source": [
    "%%sql "
   ]
  },
  {
   "cell_type": "code",
   "execution_count": 85,
   "metadata": {},
   "outputs": [
    {
     "name": "stdout",
     "output_type": "stream",
     "text": [
      " * sqlite:///enterprise_data.db\n",
      "Done.\n"
     ]
    },
    {
     "data": {
      "text/html": [
       "<table>\n",
       "    <tr>\n",
       "        <th>FNAME</th>\n",
       "        <th>LNAME</th>\n",
       "    </tr>\n",
       "    <tr>\n",
       "        <td>Franklin</td>\n",
       "        <td>Wong</td>\n",
       "    </tr>\n",
       "</table>"
      ],
      "text/plain": [
       "[(u'Franklin', u'Wong')]"
      ]
     },
     "execution_count": 85,
     "metadata": {},
     "output_type": "execute_result"
    }
   ],
   "source": [
    "\"\"\"\n",
    "Expected output below\n",
    "\n",
    "Don't re-execute this cell!\n",
    "\"\"\""
   ]
  },
  {
   "cell_type": "markdown",
   "metadata": {},
   "source": [
    "_It is also possible to use an explicit (enumerated) set of values in the WHERE-clause rather than a nested query_\n",
    "\n",
    "Query 6: Retrieve the social security numbers of all employees who work on project number 1, 2, or 3.\n"
   ]
  },
  {
   "cell_type": "code",
   "execution_count": null,
   "metadata": {},
   "outputs": [],
   "source": [
    "%%sql "
   ]
  },
  {
   "cell_type": "code",
   "execution_count": 88,
   "metadata": {},
   "outputs": [
    {
     "name": "stdout",
     "output_type": "stream",
     "text": [
      " * sqlite:///enterprise_data.db\n",
      "Done.\n"
     ]
    },
    {
     "data": {
      "text/html": [
       "<table>\n",
       "    <tr>\n",
       "        <th>ESSN</th>\n",
       "    </tr>\n",
       "    <tr>\n",
       "        <td>123456789</td>\n",
       "    </tr>\n",
       "    <tr>\n",
       "        <td>333445555</td>\n",
       "    </tr>\n",
       "    <tr>\n",
       "        <td>453453453</td>\n",
       "    </tr>\n",
       "    <tr>\n",
       "        <td>666884444</td>\n",
       "    </tr>\n",
       "</table>"
      ],
      "text/plain": [
       "[(u'123456789',), (u'333445555',), (u'453453453',), (u'666884444',)]"
      ]
     },
     "execution_count": 88,
     "metadata": {},
     "output_type": "execute_result"
    }
   ],
   "source": [
    "\"\"\"\n",
    "Expected output below\n",
    "\n",
    "Don't re-execute this cell!\n",
    "\"\"\""
   ]
  },
  {
   "cell_type": "markdown",
   "metadata": {},
   "source": [
    "_The **IN** operator compares two sets of values , and returns **TRUE** if one set contains all values in the other set (reminiscent of the division operation of algebra)._\n",
    "\n",
    "Query 7: Retrieve the name of each employee who works on some of the projects\n",
    "controlled by department number 5."
   ]
  },
  {
   "cell_type": "code",
   "execution_count": null,
   "metadata": {},
   "outputs": [],
   "source": [
    "%%sql "
   ]
  },
  {
   "cell_type": "code",
   "execution_count": 58,
   "metadata": {},
   "outputs": [
    {
     "name": "stdout",
     "output_type": "stream",
     "text": [
      " * sqlite:///enterprise_data.db\n",
      "Done.\n"
     ]
    },
    {
     "data": {
      "text/html": [
       "<table>\n",
       "    <tr>\n",
       "        <th>FNAME</th>\n",
       "        <th>LNAME</th>\n",
       "        <th>SSN</th>\n",
       "    </tr>\n",
       "    <tr>\n",
       "        <td>Franklin</td>\n",
       "        <td>Wong</td>\n",
       "        <td>333445555</td>\n",
       "    </tr>\n",
       "    <tr>\n",
       "        <td>John</td>\n",
       "        <td>Smith</td>\n",
       "        <td>123456789</td>\n",
       "    </tr>\n",
       "    <tr>\n",
       "        <td>Ramesh</td>\n",
       "        <td>Narayan</td>\n",
       "        <td>666884444</td>\n",
       "    </tr>\n",
       "    <tr>\n",
       "        <td>Joyce</td>\n",
       "        <td>English</td>\n",
       "        <td>453453453</td>\n",
       "    </tr>\n",
       "</table>"
      ],
      "text/plain": [
       "[(u'Franklin', u'Wong', u'333445555'),\n",
       " (u'John', u'Smith', u'123456789'),\n",
       " (u'Ramesh', u'Narayan', u'666884444'),\n",
       " (u'Joyce', u'English', u'453453453')]"
      ]
     },
     "execution_count": 58,
     "metadata": {},
     "output_type": "execute_result"
    }
   ],
   "source": [
    "\"\"\"\n",
    "Expected output below\n",
    "\n",
    "Don't re-execute this cell!\n",
    "\"\"\""
   ]
  },
  {
   "cell_type": "markdown",
   "metadata": {},
   "source": [
    "Query 7a: Retrieve the name of each employee who works on all the projects\n",
    "controlled by department number 5."
   ]
  },
  {
   "cell_type": "code",
   "execution_count": null,
   "metadata": {},
   "outputs": [],
   "source": [
    "%%sql "
   ]
  },
  {
   "cell_type": "code",
   "execution_count": 57,
   "metadata": {},
   "outputs": [
    {
     "name": "stdout",
     "output_type": "stream",
     "text": [
      " * sqlite:///enterprise_data.db\n",
      "Done.\n"
     ]
    },
    {
     "data": {
      "text/html": [
       "<table>\n",
       "    <tr>\n",
       "        <th>FNAME</th>\n",
       "        <th>LNAME</th>\n",
       "    </tr>\n",
       "</table>"
      ],
      "text/plain": [
       "[]"
      ]
     },
     "execution_count": 57,
     "metadata": {},
     "output_type": "execute_result"
    }
   ],
   "source": [
    "\"\"\"\n",
    "Expected output below\n",
    "\n",
    "Don't re-execute this cell!\n",
    "\"\"\""
   ]
  },
  {
   "cell_type": "markdown",
   "metadata": {},
   "source": [
    "_SQL uses **IS** or **IS NOT** to compare NULLs because it considers each NULL value distinct from other NULL_\n",
    "\n",
    "Query 8: Retrieve the names of all employees who do not have supervisors."
   ]
  },
  {
   "cell_type": "code",
   "execution_count": null,
   "metadata": {},
   "outputs": [],
   "source": [
    "%%sql "
   ]
  },
  {
   "cell_type": "code",
   "execution_count": 90,
   "metadata": {},
   "outputs": [
    {
     "name": "stdout",
     "output_type": "stream",
     "text": [
      " * sqlite:///enterprise_data.db\n",
      "Done.\n"
     ]
    },
    {
     "data": {
      "text/html": [
       "<table>\n",
       "    <tr>\n",
       "        <th>FNAME</th>\n",
       "        <th>LNAME</th>\n",
       "    </tr>\n",
       "    <tr>\n",
       "        <td>James</td>\n",
       "        <td>Borg</td>\n",
       "    </tr>\n",
       "</table>"
      ],
      "text/plain": [
       "[(u'James', u'Borg')]"
      ]
     },
     "execution_count": 90,
     "metadata": {},
     "output_type": "execute_result"
    }
   ],
   "source": [
    "\"\"\"\n",
    "Expected output below\n",
    "\n",
    "Don't re-execute this cell!\n",
    "\"\"\""
   ]
  },
  {
   "cell_type": "markdown",
   "metadata": {},
   "source": [
    "Query 9: Retrieve the employee’s first and last name, and the first and last name of his or her immediate supervisor."
   ]
  },
  {
   "cell_type": "code",
   "execution_count": null,
   "metadata": {},
   "outputs": [],
   "source": [
    "%%sql "
   ]
  },
  {
   "cell_type": "code",
   "execution_count": 93,
   "metadata": {},
   "outputs": [
    {
     "name": "stdout",
     "output_type": "stream",
     "text": [
      " * sqlite:///enterprise_data.db\n",
      "Done.\n"
     ]
    },
    {
     "data": {
      "text/html": [
       "<table>\n",
       "    <tr>\n",
       "        <th>FNAME</th>\n",
       "        <th>LNAME</th>\n",
       "        <th>FNAME_1</th>\n",
       "        <th>LNAME_1</th>\n",
       "    </tr>\n",
       "    <tr>\n",
       "        <td>James</td>\n",
       "        <td>Borg</td>\n",
       "        <td>None</td>\n",
       "        <td>None</td>\n",
       "    </tr>\n",
       "    <tr>\n",
       "        <td>Franklin</td>\n",
       "        <td>Wong</td>\n",
       "        <td>James</td>\n",
       "        <td>Borg</td>\n",
       "    </tr>\n",
       "    <tr>\n",
       "        <td>Jennifer</td>\n",
       "        <td>Wallace</td>\n",
       "        <td>James</td>\n",
       "        <td>Borg</td>\n",
       "    </tr>\n",
       "    <tr>\n",
       "        <td>John</td>\n",
       "        <td>Smith</td>\n",
       "        <td>None</td>\n",
       "        <td>None</td>\n",
       "    </tr>\n",
       "    <tr>\n",
       "        <td>Ramesh</td>\n",
       "        <td>Narayan</td>\n",
       "        <td>Franklin</td>\n",
       "        <td>Wong</td>\n",
       "    </tr>\n",
       "    <tr>\n",
       "        <td>Joyce</td>\n",
       "        <td>English</td>\n",
       "        <td>Franklin</td>\n",
       "        <td>Wong</td>\n",
       "    </tr>\n",
       "    <tr>\n",
       "        <td>Alicia</td>\n",
       "        <td>Zalaya</td>\n",
       "        <td>Jennifer</td>\n",
       "        <td>Wallace</td>\n",
       "    </tr>\n",
       "    <tr>\n",
       "        <td>Ahmad</td>\n",
       "        <td>Jabbar</td>\n",
       "        <td>Jennifer</td>\n",
       "        <td>Wallace</td>\n",
       "    </tr>\n",
       "</table>"
      ],
      "text/plain": [
       "[(u'James', u'Borg', None, None),\n",
       " (u'Franklin', u'Wong', u'James', u'Borg'),\n",
       " (u'Jennifer', u'Wallace', u'James', u'Borg'),\n",
       " (u'John', u'Smith', None, None),\n",
       " (u'Ramesh', u'Narayan', u'Franklin', u'Wong'),\n",
       " (u'Joyce', u'English', u'Franklin', u'Wong'),\n",
       " (u'Alicia', u'Zalaya', u'Jennifer', u'Wallace'),\n",
       " (u'Ahmad', u'Jabbar', u'Jennifer', u'Wallace')]"
      ]
     },
     "execution_count": 93,
     "metadata": {},
     "output_type": "execute_result"
    }
   ],
   "source": [
    "\"\"\"\n",
    "Expected output below\n",
    "\n",
    "Don't re-execute this cell!\n",
    "\"\"\""
   ]
  },
  {
   "cell_type": "markdown",
   "metadata": {},
   "source": [
    "Query 9a: to retrieve the last name of each employee and his or her supervisor, while renaming the resulting attribute names as EMPLOYEE_NAME and SUPERVISOR_NAME"
   ]
  },
  {
   "cell_type": "code",
   "execution_count": null,
   "metadata": {},
   "outputs": [],
   "source": []
  },
  {
   "cell_type": "code",
   "execution_count": 94,
   "metadata": {},
   "outputs": [
    {
     "name": "stdout",
     "output_type": "stream",
     "text": [
      " * sqlite:///enterprise_data.db\n",
      "Done.\n"
     ]
    },
    {
     "data": {
      "text/html": [
       "<table>\n",
       "    <tr>\n",
       "        <th>EMPLOYEE_NAME</th>\n",
       "        <th>SUPERVISOR_NAME</th>\n",
       "    </tr>\n",
       "    <tr>\n",
       "        <td>Borg</td>\n",
       "        <td>None</td>\n",
       "    </tr>\n",
       "    <tr>\n",
       "        <td>Wong</td>\n",
       "        <td>Borg</td>\n",
       "    </tr>\n",
       "    <tr>\n",
       "        <td>Wallace</td>\n",
       "        <td>Borg</td>\n",
       "    </tr>\n",
       "    <tr>\n",
       "        <td>Smith</td>\n",
       "        <td>None</td>\n",
       "    </tr>\n",
       "    <tr>\n",
       "        <td>Narayan</td>\n",
       "        <td>Wong</td>\n",
       "    </tr>\n",
       "    <tr>\n",
       "        <td>English</td>\n",
       "        <td>Wong</td>\n",
       "    </tr>\n",
       "    <tr>\n",
       "        <td>Zalaya</td>\n",
       "        <td>Wallace</td>\n",
       "    </tr>\n",
       "    <tr>\n",
       "        <td>Jabbar</td>\n",
       "        <td>Wallace</td>\n",
       "    </tr>\n",
       "</table>"
      ],
      "text/plain": [
       "[(u'Borg', None),\n",
       " (u'Wong', u'Borg'),\n",
       " (u'Wallace', u'Borg'),\n",
       " (u'Smith', None),\n",
       " (u'Narayan', u'Wong'),\n",
       " (u'English', u'Wong'),\n",
       " (u'Zalaya', u'Wallace'),\n",
       " (u'Jabbar', u'Wallace')]"
      ]
     },
     "execution_count": 94,
     "metadata": {},
     "output_type": "execute_result"
    }
   ],
   "source": [
    "\"\"\"\n",
    "Expected output below\n",
    "\n",
    "Don't re-execute this cell!\n",
    "\"\"\""
   ]
  },
  {
   "cell_type": "markdown",
   "metadata": {},
   "source": [
    "Query 10: For every project located in 'Stafford', list the project number, the\n",
    "controlling department number, and the department manager's last name,\n",
    "address, and birthdate."
   ]
  },
  {
   "cell_type": "code",
   "execution_count": null,
   "metadata": {},
   "outputs": [],
   "source": []
  },
  {
   "cell_type": "code",
   "execution_count": 97,
   "metadata": {},
   "outputs": [
    {
     "name": "stdout",
     "output_type": "stream",
     "text": [
      " * sqlite:///enterprise_data.db\n",
      "Done.\n"
     ]
    },
    {
     "data": {
      "text/html": [
       "<table>\n",
       "    <tr>\n",
       "        <th>PNUMBER</th>\n",
       "        <th>DNUM</th>\n",
       "        <th>LNAME</th>\n",
       "        <th>BDATE</th>\n",
       "        <th>ADDRESS</th>\n",
       "    </tr>\n",
       "    <tr>\n",
       "        <td>10</td>\n",
       "        <td>4</td>\n",
       "        <td>Wallace</td>\n",
       "        <td>1931-06-20</td>\n",
       "        <td>291 Berry, Bellaire, TX</td>\n",
       "    </tr>\n",
       "    <tr>\n",
       "        <td>30</td>\n",
       "        <td>4</td>\n",
       "        <td>Wallace</td>\n",
       "        <td>1931-06-20</td>\n",
       "        <td>291 Berry, Bellaire, TX</td>\n",
       "    </tr>\n",
       "</table>"
      ],
      "text/plain": [
       "[(10, 4, u'Wallace', u'1931-06-20', u'291 Berry, Bellaire, TX'),\n",
       " (30, 4, u'Wallace', u'1931-06-20', u'291 Berry, Bellaire, TX')]"
      ]
     },
     "execution_count": 97,
     "metadata": {},
     "output_type": "execute_result"
    }
   ],
   "source": [
    "\"\"\"\n",
    "Expected output below\n",
    "\n",
    "Don't re-execute this cell!\n",
    "\"\"\""
   ]
  },
  {
   "cell_type": "markdown",
   "metadata": {},
   "source": [
    "_Include COUNT, SUM, MAX, MIN, and AVG_\n",
    "\n",
    "Query 11: Find the maximum salary, the minimum salary, and\n",
    "the average salary among all employees.\n"
   ]
  },
  {
   "cell_type": "code",
   "execution_count": null,
   "metadata": {},
   "outputs": [],
   "source": [
    "%%sql "
   ]
  },
  {
   "cell_type": "code",
   "execution_count": null,
   "metadata": {},
   "outputs": [],
   "source": [
    "\"\"\"\n",
    "Expected output below\n",
    "\n",
    "Don't re-execute this cell!\n",
    "\"\"\""
   ]
  },
  {
   "cell_type": "markdown",
   "metadata": {},
   "source": [
    "Query 12: Find the maximum salary, the minimum salary, and the average salary among employees who work for the 'Research' department"
   ]
  },
  {
   "cell_type": "code",
   "execution_count": null,
   "metadata": {},
   "outputs": [],
   "source": [
    "%%sql "
   ]
  },
  {
   "cell_type": "code",
   "execution_count": 101,
   "metadata": {},
   "outputs": [
    {
     "name": "stdout",
     "output_type": "stream",
     "text": [
      " * sqlite:///enterprise_data.db\n",
      "Done.\n"
     ]
    },
    {
     "data": {
      "text/html": [
       "<table>\n",
       "    <tr>\n",
       "        <th>MAX(SALARY)</th>\n",
       "        <th>MIN(SALARY)</th>\n",
       "        <th>AVG(SALARY)</th>\n",
       "    </tr>\n",
       "    <tr>\n",
       "        <td>40000</td>\n",
       "        <td>25000</td>\n",
       "        <td>33250.0</td>\n",
       "    </tr>\n",
       "</table>"
      ],
      "text/plain": [
       "[(40000, 25000, 33250.0)]"
      ]
     },
     "execution_count": 101,
     "metadata": {},
     "output_type": "execute_result"
    }
   ],
   "source": [
    "\"\"\"\n",
    "Expected output below\n",
    "\n",
    "Don't re-execute this cell!\n",
    "\"\"\""
   ]
  },
  {
   "cell_type": "markdown",
   "metadata": {},
   "source": [
    "_SQL has a **GROUP BY**-clause for specifying the grouping attributes, which must also appear in the SELECT-clause_\n",
    "\n",
    "Query 13: For each department, retrieve the department number, the number of employees in the department, and their average salary."
   ]
  },
  {
   "cell_type": "code",
   "execution_count": null,
   "metadata": {},
   "outputs": [],
   "source": [
    "%%sql "
   ]
  },
  {
   "cell_type": "code",
   "execution_count": 102,
   "metadata": {},
   "outputs": [
    {
     "name": "stdout",
     "output_type": "stream",
     "text": [
      " * sqlite:///enterprise_data.db\n",
      "Done.\n"
     ]
    },
    {
     "data": {
      "text/html": [
       "<table>\n",
       "    <tr>\n",
       "        <th>DNO</th>\n",
       "        <th>COUNT (*)</th>\n",
       "        <th>AVG (SALARY)</th>\n",
       "    </tr>\n",
       "    <tr>\n",
       "        <td>1</td>\n",
       "        <td>1</td>\n",
       "        <td>55000.0</td>\n",
       "    </tr>\n",
       "    <tr>\n",
       "        <td>4</td>\n",
       "        <td>3</td>\n",
       "        <td>31000.0</td>\n",
       "    </tr>\n",
       "    <tr>\n",
       "        <td>5</td>\n",
       "        <td>4</td>\n",
       "        <td>33250.0</td>\n",
       "    </tr>\n",
       "</table>"
      ],
      "text/plain": [
       "[(1, 1, 55000.0), (4, 3, 31000.0), (5, 4, 33250.0)]"
      ]
     },
     "execution_count": 102,
     "metadata": {},
     "output_type": "execute_result"
    }
   ],
   "source": [
    "\"\"\"\n",
    "Expected output below\n",
    "\n",
    "Don't re-execute this cell!\n",
    "\"\"\""
   ]
  },
  {
   "cell_type": "markdown",
   "metadata": {},
   "source": [
    "Query 14: For each project, retrieve the project number, project\n",
    "name, and the number of employees who work on that project."
   ]
  },
  {
   "cell_type": "code",
   "execution_count": null,
   "metadata": {},
   "outputs": [],
   "source": [
    "%%sql "
   ]
  },
  {
   "cell_type": "code",
   "execution_count": 103,
   "metadata": {},
   "outputs": [
    {
     "name": "stdout",
     "output_type": "stream",
     "text": [
      " * sqlite:///enterprise_data.db\n",
      "Done.\n"
     ]
    },
    {
     "data": {
      "text/html": [
       "<table>\n",
       "    <tr>\n",
       "        <th>PNUMBER</th>\n",
       "        <th>PNAME</th>\n",
       "        <th>COUNT (*)</th>\n",
       "    </tr>\n",
       "    <tr>\n",
       "        <td>1</td>\n",
       "        <td>ProductX</td>\n",
       "        <td>2</td>\n",
       "    </tr>\n",
       "    <tr>\n",
       "        <td>2</td>\n",
       "        <td>ProductY</td>\n",
       "        <td>3</td>\n",
       "    </tr>\n",
       "    <tr>\n",
       "        <td>3</td>\n",
       "        <td>ProductZ</td>\n",
       "        <td>2</td>\n",
       "    </tr>\n",
       "    <tr>\n",
       "        <td>10</td>\n",
       "        <td>Computerization</td>\n",
       "        <td>3</td>\n",
       "    </tr>\n",
       "    <tr>\n",
       "        <td>20</td>\n",
       "        <td>Reorganization</td>\n",
       "        <td>3</td>\n",
       "    </tr>\n",
       "    <tr>\n",
       "        <td>30</td>\n",
       "        <td>NewBenefits</td>\n",
       "        <td>3</td>\n",
       "    </tr>\n",
       "</table>"
      ],
      "text/plain": [
       "[(1, u'ProductX', 2),\n",
       " (2, u'ProductY', 3),\n",
       " (3, u'ProductZ', 2),\n",
       " (10, u'Computerization', 3),\n",
       " (20, u'Reorganization', 3),\n",
       " (30, u'NewBenefits', 3)]"
      ]
     },
     "execution_count": 103,
     "metadata": {},
     "output_type": "execute_result"
    }
   ],
   "source": [
    "\"\"\"\n",
    "Expected output below\n",
    "\n",
    "Don't re-execute this cell!\n",
    "\"\"\""
   ]
  },
  {
   "cell_type": "markdown",
   "metadata": {},
   "source": [
    "_The **HAVING**-clause is used for specifying a selection condition on groups (rather than on individual tuples)_\n",
    "\n",
    "Query 15: For each project on which more than two employees work, retrieve the project number, project name, and the number of employees who work on that project."
   ]
  },
  {
   "cell_type": "code",
   "execution_count": null,
   "metadata": {},
   "outputs": [],
   "source": [
    "%%sql "
   ]
  },
  {
   "cell_type": "code",
   "execution_count": 104,
   "metadata": {},
   "outputs": [
    {
     "name": "stdout",
     "output_type": "stream",
     "text": [
      " * sqlite:///enterprise_data.db\n",
      "Done.\n"
     ]
    },
    {
     "data": {
      "text/html": [
       "<table>\n",
       "    <tr>\n",
       "        <th>PNUMBER</th>\n",
       "        <th>PNAME</th>\n",
       "        <th>COUNT (*)</th>\n",
       "    </tr>\n",
       "    <tr>\n",
       "        <td>2</td>\n",
       "        <td>ProductY</td>\n",
       "        <td>3</td>\n",
       "    </tr>\n",
       "    <tr>\n",
       "        <td>10</td>\n",
       "        <td>Computerization</td>\n",
       "        <td>3</td>\n",
       "    </tr>\n",
       "    <tr>\n",
       "        <td>20</td>\n",
       "        <td>Reorganization</td>\n",
       "        <td>3</td>\n",
       "    </tr>\n",
       "    <tr>\n",
       "        <td>30</td>\n",
       "        <td>NewBenefits</td>\n",
       "        <td>3</td>\n",
       "    </tr>\n",
       "</table>"
      ],
      "text/plain": [
       "[(2, u'ProductY', 3),\n",
       " (10, u'Computerization', 3),\n",
       " (20, u'Reorganization', 3),\n",
       " (30, u'NewBenefits', 3)]"
      ]
     },
     "execution_count": 104,
     "metadata": {},
     "output_type": "execute_result"
    }
   ],
   "source": [
    "\"\"\"\n",
    "Expected output below\n",
    "\n",
    "Don't re-execute this cell!\n",
    "\"\"\""
   ]
  },
  {
   "cell_type": "markdown",
   "metadata": {},
   "source": [
    "Summary: A query in SQL can consist of up to six clauses, but only\n",
    "the first two, SELECT and FROM, are mandatory.\n",
    "\n",
    "The\n",
    "clauses are specified in the following order:\n",
    "\n",
    "```sql\n",
    "SELECT <attribute list>\n",
    "FROM <table list>\n",
    "[WHERE <condition>]\n",
    "[GROUP BY <grouping attribute(s)>]\n",
    "[HAVING <group condition>]\n",
    "[ORDER BY <attribute list>]\n",
    "```\n",
    "\n",
    " - The SELECT-clause lists the attributes or functions to be retrieved\n",
    " - The FROM-clause specifies all relations (or aliases) needed in the query but not those needed in nested queries\n",
    " - The WHERE-clause specifies the conditions for selection and join of tuples from the relations specified in the FROM-clause\n",
    " - GROUP BY specifies grouping attributes \n",
    " - HAVING specifies a condition for selection of groups\n",
    " - ORDER BY specifies an order for displaying the result of a query\n",
    " - A query is evaluated by first applying the WHERE-clause, then GROUP BY and HAVING, and finally the SELECT-clause"
   ]
  },
  {
   "cell_type": "markdown",
   "metadata": {},
   "source": [
    "Query 16: Select all EMPLOYEE SSNs in the database"
   ]
  },
  {
   "cell_type": "code",
   "execution_count": null,
   "metadata": {},
   "outputs": [],
   "source": [
    "%%sql "
   ]
  },
  {
   "cell_type": "code",
   "execution_count": 105,
   "metadata": {},
   "outputs": [
    {
     "name": "stdout",
     "output_type": "stream",
     "text": [
      " * sqlite:///enterprise_data.db\n",
      "Done.\n"
     ]
    },
    {
     "data": {
      "text/html": [
       "<table>\n",
       "    <tr>\n",
       "        <th>SSN</th>\n",
       "    </tr>\n",
       "    <tr>\n",
       "        <td>123456789</td>\n",
       "    </tr>\n",
       "    <tr>\n",
       "        <td>333445555</td>\n",
       "    </tr>\n",
       "    <tr>\n",
       "        <td>453453453</td>\n",
       "    </tr>\n",
       "    <tr>\n",
       "        <td>666884444</td>\n",
       "    </tr>\n",
       "    <tr>\n",
       "        <td>888665555</td>\n",
       "    </tr>\n",
       "    <tr>\n",
       "        <td>987654321</td>\n",
       "    </tr>\n",
       "    <tr>\n",
       "        <td>987987987</td>\n",
       "    </tr>\n",
       "    <tr>\n",
       "        <td>999887777</td>\n",
       "    </tr>\n",
       "</table>"
      ],
      "text/plain": [
       "[(u'123456789',),\n",
       " (u'333445555',),\n",
       " (u'453453453',),\n",
       " (u'666884444',),\n",
       " (u'888665555',),\n",
       " (u'987654321',),\n",
       " (u'987987987',),\n",
       " (u'999887777',)]"
      ]
     },
     "execution_count": 105,
     "metadata": {},
     "output_type": "execute_result"
    }
   ],
   "source": [
    "\"\"\"\n",
    "Expected output below\n",
    "\n",
    "Don't re-execute this cell!\n",
    "\"\"\""
   ]
  },
  {
   "cell_type": "markdown",
   "metadata": {},
   "source": [
    "Query 17: Select all combination of EMPLOYEE SSN and DEPARTMENT DNAME in the database"
   ]
  },
  {
   "cell_type": "code",
   "execution_count": null,
   "metadata": {},
   "outputs": [],
   "source": [
    "%%sql "
   ]
  },
  {
   "cell_type": "code",
   "execution_count": 106,
   "metadata": {},
   "outputs": [
    {
     "name": "stdout",
     "output_type": "stream",
     "text": [
      " * sqlite:///enterprise_data.db\n",
      "Done.\n"
     ]
    },
    {
     "data": {
      "text/html": [
       "<table>\n",
       "    <tr>\n",
       "        <th>SSN</th>\n",
       "        <th>DNAME</th>\n",
       "    </tr>\n",
       "    <tr>\n",
       "        <td>123456789</td>\n",
       "        <td>Headquarters</td>\n",
       "    </tr>\n",
       "    <tr>\n",
       "        <td>333445555</td>\n",
       "        <td>Headquarters</td>\n",
       "    </tr>\n",
       "    <tr>\n",
       "        <td>453453453</td>\n",
       "        <td>Headquarters</td>\n",
       "    </tr>\n",
       "    <tr>\n",
       "        <td>666884444</td>\n",
       "        <td>Headquarters</td>\n",
       "    </tr>\n",
       "    <tr>\n",
       "        <td>888665555</td>\n",
       "        <td>Headquarters</td>\n",
       "    </tr>\n",
       "    <tr>\n",
       "        <td>987654321</td>\n",
       "        <td>Headquarters</td>\n",
       "    </tr>\n",
       "    <tr>\n",
       "        <td>987987987</td>\n",
       "        <td>Headquarters</td>\n",
       "    </tr>\n",
       "    <tr>\n",
       "        <td>999887777</td>\n",
       "        <td>Headquarters</td>\n",
       "    </tr>\n",
       "    <tr>\n",
       "        <td>123456789</td>\n",
       "        <td>Research</td>\n",
       "    </tr>\n",
       "    <tr>\n",
       "        <td>333445555</td>\n",
       "        <td>Research</td>\n",
       "    </tr>\n",
       "    <tr>\n",
       "        <td>453453453</td>\n",
       "        <td>Research</td>\n",
       "    </tr>\n",
       "    <tr>\n",
       "        <td>666884444</td>\n",
       "        <td>Research</td>\n",
       "    </tr>\n",
       "    <tr>\n",
       "        <td>888665555</td>\n",
       "        <td>Research</td>\n",
       "    </tr>\n",
       "    <tr>\n",
       "        <td>987654321</td>\n",
       "        <td>Research</td>\n",
       "    </tr>\n",
       "    <tr>\n",
       "        <td>987987987</td>\n",
       "        <td>Research</td>\n",
       "    </tr>\n",
       "    <tr>\n",
       "        <td>999887777</td>\n",
       "        <td>Research</td>\n",
       "    </tr>\n",
       "    <tr>\n",
       "        <td>123456789</td>\n",
       "        <td>Administration</td>\n",
       "    </tr>\n",
       "    <tr>\n",
       "        <td>333445555</td>\n",
       "        <td>Administration</td>\n",
       "    </tr>\n",
       "    <tr>\n",
       "        <td>453453453</td>\n",
       "        <td>Administration</td>\n",
       "    </tr>\n",
       "    <tr>\n",
       "        <td>666884444</td>\n",
       "        <td>Administration</td>\n",
       "    </tr>\n",
       "    <tr>\n",
       "        <td>888665555</td>\n",
       "        <td>Administration</td>\n",
       "    </tr>\n",
       "    <tr>\n",
       "        <td>987654321</td>\n",
       "        <td>Administration</td>\n",
       "    </tr>\n",
       "    <tr>\n",
       "        <td>987987987</td>\n",
       "        <td>Administration</td>\n",
       "    </tr>\n",
       "    <tr>\n",
       "        <td>999887777</td>\n",
       "        <td>Administration</td>\n",
       "    </tr>\n",
       "</table>"
      ],
      "text/plain": [
       "[(u'123456789', u'Headquarters'),\n",
       " (u'333445555', u'Headquarters'),\n",
       " (u'453453453', u'Headquarters'),\n",
       " (u'666884444', u'Headquarters'),\n",
       " (u'888665555', u'Headquarters'),\n",
       " (u'987654321', u'Headquarters'),\n",
       " (u'987987987', u'Headquarters'),\n",
       " (u'999887777', u'Headquarters'),\n",
       " (u'123456789', u'Research'),\n",
       " (u'333445555', u'Research'),\n",
       " (u'453453453', u'Research'),\n",
       " (u'666884444', u'Research'),\n",
       " (u'888665555', u'Research'),\n",
       " (u'987654321', u'Research'),\n",
       " (u'987987987', u'Research'),\n",
       " (u'999887777', u'Research'),\n",
       " (u'123456789', u'Administration'),\n",
       " (u'333445555', u'Administration'),\n",
       " (u'453453453', u'Administration'),\n",
       " (u'666884444', u'Administration'),\n",
       " (u'888665555', u'Administration'),\n",
       " (u'987654321', u'Administration'),\n",
       " (u'987987987', u'Administration'),\n",
       " (u'999887777', u'Administration')]"
      ]
     },
     "execution_count": 106,
     "metadata": {},
     "output_type": "execute_result"
    }
   ],
   "source": [
    "\"\"\"\n",
    "Expected output below\n",
    "\n",
    "Don't re-execute this cell!\n",
    "\"\"\""
   ]
  },
  {
   "cell_type": "markdown",
   "metadata": {},
   "source": [
    "Query 18: Select the CROSS PRODUCT of the EMPLOYEE and DEPARTMENT relations"
   ]
  },
  {
   "cell_type": "code",
   "execution_count": null,
   "metadata": {},
   "outputs": [],
   "source": [
    "%%sql "
   ]
  },
  {
   "cell_type": "code",
   "execution_count": 107,
   "metadata": {},
   "outputs": [
    {
     "name": "stdout",
     "output_type": "stream",
     "text": [
      " * sqlite:///enterprise_data.db\n",
      "Done.\n"
     ]
    },
    {
     "data": {
      "text/html": [
       "<table>\n",
       "    <tr>\n",
       "        <th>FNAME</th>\n",
       "        <th>MINIT</th>\n",
       "        <th>LNAME</th>\n",
       "        <th>SSN</th>\n",
       "        <th>BDATE</th>\n",
       "        <th>ADDRESS</th>\n",
       "        <th>SEX</th>\n",
       "        <th>SALARY</th>\n",
       "        <th>SUPERSSN</th>\n",
       "        <th>DNO</th>\n",
       "        <th>DNAME</th>\n",
       "        <th>DNUMBER</th>\n",
       "        <th>MGRSSN</th>\n",
       "        <th>MGRSTARTDATE</th>\n",
       "    </tr>\n",
       "    <tr>\n",
       "        <td>James</td>\n",
       "        <td>E</td>\n",
       "        <td>Borg</td>\n",
       "        <td>888665555</td>\n",
       "        <td>1927-11-10</td>\n",
       "        <td>50 Stone, Houston, TX</td>\n",
       "        <td>M</td>\n",
       "        <td>55000</td>\n",
       "        <td>None</td>\n",
       "        <td>1</td>\n",
       "        <td>Headquarters</td>\n",
       "        <td>1</td>\n",
       "        <td>888665555</td>\n",
       "        <td>19-JUN-71</td>\n",
       "    </tr>\n",
       "    <tr>\n",
       "        <td>James</td>\n",
       "        <td>E</td>\n",
       "        <td>Borg</td>\n",
       "        <td>888665555</td>\n",
       "        <td>1927-11-10</td>\n",
       "        <td>50 Stone, Houston, TX</td>\n",
       "        <td>M</td>\n",
       "        <td>55000</td>\n",
       "        <td>None</td>\n",
       "        <td>1</td>\n",
       "        <td>Research</td>\n",
       "        <td>5</td>\n",
       "        <td>333445555</td>\n",
       "        <td>22-MAY-78</td>\n",
       "    </tr>\n",
       "    <tr>\n",
       "        <td>James</td>\n",
       "        <td>E</td>\n",
       "        <td>Borg</td>\n",
       "        <td>888665555</td>\n",
       "        <td>1927-11-10</td>\n",
       "        <td>50 Stone, Houston, TX</td>\n",
       "        <td>M</td>\n",
       "        <td>55000</td>\n",
       "        <td>None</td>\n",
       "        <td>1</td>\n",
       "        <td>Administration</td>\n",
       "        <td>4</td>\n",
       "        <td>987654321</td>\n",
       "        <td>01-JAN-85</td>\n",
       "    </tr>\n",
       "    <tr>\n",
       "        <td>Franklin</td>\n",
       "        <td>T</td>\n",
       "        <td>Wong</td>\n",
       "        <td>333445555</td>\n",
       "        <td>1945-12-08</td>\n",
       "        <td>638 Voss, Houston, TX</td>\n",
       "        <td>M</td>\n",
       "        <td>40000</td>\n",
       "        <td>888665555</td>\n",
       "        <td>5</td>\n",
       "        <td>Headquarters</td>\n",
       "        <td>1</td>\n",
       "        <td>888665555</td>\n",
       "        <td>19-JUN-71</td>\n",
       "    </tr>\n",
       "    <tr>\n",
       "        <td>Franklin</td>\n",
       "        <td>T</td>\n",
       "        <td>Wong</td>\n",
       "        <td>333445555</td>\n",
       "        <td>1945-12-08</td>\n",
       "        <td>638 Voss, Houston, TX</td>\n",
       "        <td>M</td>\n",
       "        <td>40000</td>\n",
       "        <td>888665555</td>\n",
       "        <td>5</td>\n",
       "        <td>Research</td>\n",
       "        <td>5</td>\n",
       "        <td>333445555</td>\n",
       "        <td>22-MAY-78</td>\n",
       "    </tr>\n",
       "    <tr>\n",
       "        <td>Franklin</td>\n",
       "        <td>T</td>\n",
       "        <td>Wong</td>\n",
       "        <td>333445555</td>\n",
       "        <td>1945-12-08</td>\n",
       "        <td>638 Voss, Houston, TX</td>\n",
       "        <td>M</td>\n",
       "        <td>40000</td>\n",
       "        <td>888665555</td>\n",
       "        <td>5</td>\n",
       "        <td>Administration</td>\n",
       "        <td>4</td>\n",
       "        <td>987654321</td>\n",
       "        <td>01-JAN-85</td>\n",
       "    </tr>\n",
       "    <tr>\n",
       "        <td>Jennifer</td>\n",
       "        <td>S</td>\n",
       "        <td>Wallace</td>\n",
       "        <td>987654321</td>\n",
       "        <td>1931-06-20</td>\n",
       "        <td>291 Berry, Bellaire, TX</td>\n",
       "        <td>F</td>\n",
       "        <td>43000</td>\n",
       "        <td>888665555</td>\n",
       "        <td>4</td>\n",
       "        <td>Headquarters</td>\n",
       "        <td>1</td>\n",
       "        <td>888665555</td>\n",
       "        <td>19-JUN-71</td>\n",
       "    </tr>\n",
       "    <tr>\n",
       "        <td>Jennifer</td>\n",
       "        <td>S</td>\n",
       "        <td>Wallace</td>\n",
       "        <td>987654321</td>\n",
       "        <td>1931-06-20</td>\n",
       "        <td>291 Berry, Bellaire, TX</td>\n",
       "        <td>F</td>\n",
       "        <td>43000</td>\n",
       "        <td>888665555</td>\n",
       "        <td>4</td>\n",
       "        <td>Research</td>\n",
       "        <td>5</td>\n",
       "        <td>333445555</td>\n",
       "        <td>22-MAY-78</td>\n",
       "    </tr>\n",
       "    <tr>\n",
       "        <td>Jennifer</td>\n",
       "        <td>S</td>\n",
       "        <td>Wallace</td>\n",
       "        <td>987654321</td>\n",
       "        <td>1931-06-20</td>\n",
       "        <td>291 Berry, Bellaire, TX</td>\n",
       "        <td>F</td>\n",
       "        <td>43000</td>\n",
       "        <td>888665555</td>\n",
       "        <td>4</td>\n",
       "        <td>Administration</td>\n",
       "        <td>4</td>\n",
       "        <td>987654321</td>\n",
       "        <td>01-JAN-85</td>\n",
       "    </tr>\n",
       "    <tr>\n",
       "        <td>John</td>\n",
       "        <td>B</td>\n",
       "        <td>Smith</td>\n",
       "        <td>123456789</td>\n",
       "        <td>1955-01-09</td>\n",
       "        <td>731 Fondren Houston, TX</td>\n",
       "        <td>M</td>\n",
       "        <td>30000</td>\n",
       "        <td>3334455555</td>\n",
       "        <td>5</td>\n",
       "        <td>Headquarters</td>\n",
       "        <td>1</td>\n",
       "        <td>888665555</td>\n",
       "        <td>19-JUN-71</td>\n",
       "    </tr>\n",
       "    <tr>\n",
       "        <td>John</td>\n",
       "        <td>B</td>\n",
       "        <td>Smith</td>\n",
       "        <td>123456789</td>\n",
       "        <td>1955-01-09</td>\n",
       "        <td>731 Fondren Houston, TX</td>\n",
       "        <td>M</td>\n",
       "        <td>30000</td>\n",
       "        <td>3334455555</td>\n",
       "        <td>5</td>\n",
       "        <td>Research</td>\n",
       "        <td>5</td>\n",
       "        <td>333445555</td>\n",
       "        <td>22-MAY-78</td>\n",
       "    </tr>\n",
       "    <tr>\n",
       "        <td>John</td>\n",
       "        <td>B</td>\n",
       "        <td>Smith</td>\n",
       "        <td>123456789</td>\n",
       "        <td>1955-01-09</td>\n",
       "        <td>731 Fondren Houston, TX</td>\n",
       "        <td>M</td>\n",
       "        <td>30000</td>\n",
       "        <td>3334455555</td>\n",
       "        <td>5</td>\n",
       "        <td>Administration</td>\n",
       "        <td>4</td>\n",
       "        <td>987654321</td>\n",
       "        <td>01-JAN-85</td>\n",
       "    </tr>\n",
       "    <tr>\n",
       "        <td>Ramesh</td>\n",
       "        <td>K</td>\n",
       "        <td>Narayan</td>\n",
       "        <td>666884444</td>\n",
       "        <td>1952-09-15</td>\n",
       "        <td>975 Fire Oak, Humble, TX</td>\n",
       "        <td>M</td>\n",
       "        <td>38000</td>\n",
       "        <td>333445555</td>\n",
       "        <td>5</td>\n",
       "        <td>Headquarters</td>\n",
       "        <td>1</td>\n",
       "        <td>888665555</td>\n",
       "        <td>19-JUN-71</td>\n",
       "    </tr>\n",
       "    <tr>\n",
       "        <td>Ramesh</td>\n",
       "        <td>K</td>\n",
       "        <td>Narayan</td>\n",
       "        <td>666884444</td>\n",
       "        <td>1952-09-15</td>\n",
       "        <td>975 Fire Oak, Humble, TX</td>\n",
       "        <td>M</td>\n",
       "        <td>38000</td>\n",
       "        <td>333445555</td>\n",
       "        <td>5</td>\n",
       "        <td>Research</td>\n",
       "        <td>5</td>\n",
       "        <td>333445555</td>\n",
       "        <td>22-MAY-78</td>\n",
       "    </tr>\n",
       "    <tr>\n",
       "        <td>Ramesh</td>\n",
       "        <td>K</td>\n",
       "        <td>Narayan</td>\n",
       "        <td>666884444</td>\n",
       "        <td>1952-09-15</td>\n",
       "        <td>975 Fire Oak, Humble, TX</td>\n",
       "        <td>M</td>\n",
       "        <td>38000</td>\n",
       "        <td>333445555</td>\n",
       "        <td>5</td>\n",
       "        <td>Administration</td>\n",
       "        <td>4</td>\n",
       "        <td>987654321</td>\n",
       "        <td>01-JAN-85</td>\n",
       "    </tr>\n",
       "    <tr>\n",
       "        <td>Joyce</td>\n",
       "        <td>A</td>\n",
       "        <td>English</td>\n",
       "        <td>453453453</td>\n",
       "        <td>1962-07-31</td>\n",
       "        <td>5631 Rice, Houston, TX</td>\n",
       "        <td>F</td>\n",
       "        <td>25000</td>\n",
       "        <td>333445555</td>\n",
       "        <td>5</td>\n",
       "        <td>Headquarters</td>\n",
       "        <td>1</td>\n",
       "        <td>888665555</td>\n",
       "        <td>19-JUN-71</td>\n",
       "    </tr>\n",
       "    <tr>\n",
       "        <td>Joyce</td>\n",
       "        <td>A</td>\n",
       "        <td>English</td>\n",
       "        <td>453453453</td>\n",
       "        <td>1962-07-31</td>\n",
       "        <td>5631 Rice, Houston, TX</td>\n",
       "        <td>F</td>\n",
       "        <td>25000</td>\n",
       "        <td>333445555</td>\n",
       "        <td>5</td>\n",
       "        <td>Research</td>\n",
       "        <td>5</td>\n",
       "        <td>333445555</td>\n",
       "        <td>22-MAY-78</td>\n",
       "    </tr>\n",
       "    <tr>\n",
       "        <td>Joyce</td>\n",
       "        <td>A</td>\n",
       "        <td>English</td>\n",
       "        <td>453453453</td>\n",
       "        <td>1962-07-31</td>\n",
       "        <td>5631 Rice, Houston, TX</td>\n",
       "        <td>F</td>\n",
       "        <td>25000</td>\n",
       "        <td>333445555</td>\n",
       "        <td>5</td>\n",
       "        <td>Administration</td>\n",
       "        <td>4</td>\n",
       "        <td>987654321</td>\n",
       "        <td>01-JAN-85</td>\n",
       "    </tr>\n",
       "    <tr>\n",
       "        <td>Alicia</td>\n",
       "        <td>J</td>\n",
       "        <td>Zalaya</td>\n",
       "        <td>999887777</td>\n",
       "        <td>1958-07-19</td>\n",
       "        <td>3321 Castle, Spring, TX</td>\n",
       "        <td>F</td>\n",
       "        <td>25000</td>\n",
       "        <td>987654321</td>\n",
       "        <td>4</td>\n",
       "        <td>Headquarters</td>\n",
       "        <td>1</td>\n",
       "        <td>888665555</td>\n",
       "        <td>19-JUN-71</td>\n",
       "    </tr>\n",
       "    <tr>\n",
       "        <td>Alicia</td>\n",
       "        <td>J</td>\n",
       "        <td>Zalaya</td>\n",
       "        <td>999887777</td>\n",
       "        <td>1958-07-19</td>\n",
       "        <td>3321 Castle, Spring, TX</td>\n",
       "        <td>F</td>\n",
       "        <td>25000</td>\n",
       "        <td>987654321</td>\n",
       "        <td>4</td>\n",
       "        <td>Research</td>\n",
       "        <td>5</td>\n",
       "        <td>333445555</td>\n",
       "        <td>22-MAY-78</td>\n",
       "    </tr>\n",
       "    <tr>\n",
       "        <td>Alicia</td>\n",
       "        <td>J</td>\n",
       "        <td>Zalaya</td>\n",
       "        <td>999887777</td>\n",
       "        <td>1958-07-19</td>\n",
       "        <td>3321 Castle, Spring, TX</td>\n",
       "        <td>F</td>\n",
       "        <td>25000</td>\n",
       "        <td>987654321</td>\n",
       "        <td>4</td>\n",
       "        <td>Administration</td>\n",
       "        <td>4</td>\n",
       "        <td>987654321</td>\n",
       "        <td>01-JAN-85</td>\n",
       "    </tr>\n",
       "    <tr>\n",
       "        <td>Ahmad</td>\n",
       "        <td>V</td>\n",
       "        <td>Jabbar</td>\n",
       "        <td>987987987</td>\n",
       "        <td>1959-03-29</td>\n",
       "        <td>985 Dallas, Houston, TX</td>\n",
       "        <td>M</td>\n",
       "        <td>25000</td>\n",
       "        <td>987654321</td>\n",
       "        <td>4</td>\n",
       "        <td>Headquarters</td>\n",
       "        <td>1</td>\n",
       "        <td>888665555</td>\n",
       "        <td>19-JUN-71</td>\n",
       "    </tr>\n",
       "    <tr>\n",
       "        <td>Ahmad</td>\n",
       "        <td>V</td>\n",
       "        <td>Jabbar</td>\n",
       "        <td>987987987</td>\n",
       "        <td>1959-03-29</td>\n",
       "        <td>985 Dallas, Houston, TX</td>\n",
       "        <td>M</td>\n",
       "        <td>25000</td>\n",
       "        <td>987654321</td>\n",
       "        <td>4</td>\n",
       "        <td>Research</td>\n",
       "        <td>5</td>\n",
       "        <td>333445555</td>\n",
       "        <td>22-MAY-78</td>\n",
       "    </tr>\n",
       "    <tr>\n",
       "        <td>Ahmad</td>\n",
       "        <td>V</td>\n",
       "        <td>Jabbar</td>\n",
       "        <td>987987987</td>\n",
       "        <td>1959-03-29</td>\n",
       "        <td>985 Dallas, Houston, TX</td>\n",
       "        <td>M</td>\n",
       "        <td>25000</td>\n",
       "        <td>987654321</td>\n",
       "        <td>4</td>\n",
       "        <td>Administration</td>\n",
       "        <td>4</td>\n",
       "        <td>987654321</td>\n",
       "        <td>01-JAN-85</td>\n",
       "    </tr>\n",
       "</table>"
      ],
      "text/plain": [
       "[(u'James', u'E', u'Borg', u'888665555', u'1927-11-10', u'50 Stone, Houston, TX', u'M', 55000, None, 1, u'Headquarters', 1, u'888665555', u'19-JUN-71'),\n",
       " (u'James', u'E', u'Borg', u'888665555', u'1927-11-10', u'50 Stone, Houston, TX', u'M', 55000, None, 1, u'Research', 5, u'333445555', u'22-MAY-78'),\n",
       " (u'James', u'E', u'Borg', u'888665555', u'1927-11-10', u'50 Stone, Houston, TX', u'M', 55000, None, 1, u'Administration', 4, u'987654321', u'01-JAN-85'),\n",
       " (u'Franklin', u'T', u'Wong', u'333445555', u'1945-12-08', u'638 Voss, Houston, TX', u'M', 40000, u'888665555', 5, u'Headquarters', 1, u'888665555', u'19-JUN-71'),\n",
       " (u'Franklin', u'T', u'Wong', u'333445555', u'1945-12-08', u'638 Voss, Houston, TX', u'M', 40000, u'888665555', 5, u'Research', 5, u'333445555', u'22-MAY-78'),\n",
       " (u'Franklin', u'T', u'Wong', u'333445555', u'1945-12-08', u'638 Voss, Houston, TX', u'M', 40000, u'888665555', 5, u'Administration', 4, u'987654321', u'01-JAN-85'),\n",
       " (u'Jennifer', u'S', u'Wallace', u'987654321', u'1931-06-20', u'291 Berry, Bellaire, TX', u'F', 43000, u'888665555', 4, u'Headquarters', 1, u'888665555', u'19-JUN-71'),\n",
       " (u'Jennifer', u'S', u'Wallace', u'987654321', u'1931-06-20', u'291 Berry, Bellaire, TX', u'F', 43000, u'888665555', 4, u'Research', 5, u'333445555', u'22-MAY-78'),\n",
       " (u'Jennifer', u'S', u'Wallace', u'987654321', u'1931-06-20', u'291 Berry, Bellaire, TX', u'F', 43000, u'888665555', 4, u'Administration', 4, u'987654321', u'01-JAN-85'),\n",
       " (u'John', u'B', u'Smith', u'123456789', u'1955-01-09', u'731 Fondren Houston, TX', u'M', 30000, u'3334455555', 5, u'Headquarters', 1, u'888665555', u'19-JUN-71'),\n",
       " (u'John', u'B', u'Smith', u'123456789', u'1955-01-09', u'731 Fondren Houston, TX', u'M', 30000, u'3334455555', 5, u'Research', 5, u'333445555', u'22-MAY-78'),\n",
       " (u'John', u'B', u'Smith', u'123456789', u'1955-01-09', u'731 Fondren Houston, TX', u'M', 30000, u'3334455555', 5, u'Administration', 4, u'987654321', u'01-JAN-85'),\n",
       " (u'Ramesh', u'K', u'Narayan', u'666884444', u'1952-09-15', u'975 Fire Oak, Humble, TX', u'M', 38000, u'333445555', 5, u'Headquarters', 1, u'888665555', u'19-JUN-71'),\n",
       " (u'Ramesh', u'K', u'Narayan', u'666884444', u'1952-09-15', u'975 Fire Oak, Humble, TX', u'M', 38000, u'333445555', 5, u'Research', 5, u'333445555', u'22-MAY-78'),\n",
       " (u'Ramesh', u'K', u'Narayan', u'666884444', u'1952-09-15', u'975 Fire Oak, Humble, TX', u'M', 38000, u'333445555', 5, u'Administration', 4, u'987654321', u'01-JAN-85'),\n",
       " (u'Joyce', u'A', u'English', u'453453453', u'1962-07-31', u'5631 Rice, Houston, TX', u'F', 25000, u'333445555', 5, u'Headquarters', 1, u'888665555', u'19-JUN-71'),\n",
       " (u'Joyce', u'A', u'English', u'453453453', u'1962-07-31', u'5631 Rice, Houston, TX', u'F', 25000, u'333445555', 5, u'Research', 5, u'333445555', u'22-MAY-78'),\n",
       " (u'Joyce', u'A', u'English', u'453453453', u'1962-07-31', u'5631 Rice, Houston, TX', u'F', 25000, u'333445555', 5, u'Administration', 4, u'987654321', u'01-JAN-85'),\n",
       " (u'Alicia', u'J', u'Zalaya', u'999887777', u'1958-07-19', u'3321 Castle, Spring, TX', u'F', 25000, u'987654321', 4, u'Headquarters', 1, u'888665555', u'19-JUN-71'),\n",
       " (u'Alicia', u'J', u'Zalaya', u'999887777', u'1958-07-19', u'3321 Castle, Spring, TX', u'F', 25000, u'987654321', 4, u'Research', 5, u'333445555', u'22-MAY-78'),\n",
       " (u'Alicia', u'J', u'Zalaya', u'999887777', u'1958-07-19', u'3321 Castle, Spring, TX', u'F', 25000, u'987654321', 4, u'Administration', 4, u'987654321', u'01-JAN-85'),\n",
       " (u'Ahmad', u'V', u'Jabbar', u'987987987', u'1959-03-29', u'985 Dallas, Houston, TX', u'M', 25000, u'987654321', 4, u'Headquarters', 1, u'888665555', u'19-JUN-71'),\n",
       " (u'Ahmad', u'V', u'Jabbar', u'987987987', u'1959-03-29', u'985 Dallas, Houston, TX', u'M', 25000, u'987654321', 4, u'Research', 5, u'333445555', u'22-MAY-78'),\n",
       " (u'Ahmad', u'V', u'Jabbar', u'987987987', u'1959-03-29', u'985 Dallas, Houston, TX', u'M', 25000, u'987654321', 4, u'Administration', 4, u'987654321', u'01-JAN-85')]"
      ]
     },
     "execution_count": 107,
     "metadata": {},
     "output_type": "execute_result"
    }
   ],
   "source": [
    "\"\"\"\n",
    "Expected output below\n",
    "\n",
    "Don't re-execute this cell!\n",
    "\"\"\""
   ]
  },
  {
   "cell_type": "markdown",
   "metadata": {},
   "source": [
    "Query 19: Retrieve the salary of every employee"
   ]
  },
  {
   "cell_type": "code",
   "execution_count": null,
   "metadata": {},
   "outputs": [],
   "source": [
    "%%sql "
   ]
  },
  {
   "cell_type": "code",
   "execution_count": 110,
   "metadata": {},
   "outputs": [
    {
     "name": "stdout",
     "output_type": "stream",
     "text": [
      " * sqlite:///enterprise_data.db\n",
      "Done.\n"
     ]
    },
    {
     "data": {
      "text/html": [
       "<table>\n",
       "    <tr>\n",
       "        <th>SALARY</th>\n",
       "    </tr>\n",
       "    <tr>\n",
       "        <td>55000</td>\n",
       "    </tr>\n",
       "    <tr>\n",
       "        <td>40000</td>\n",
       "    </tr>\n",
       "    <tr>\n",
       "        <td>43000</td>\n",
       "    </tr>\n",
       "    <tr>\n",
       "        <td>30000</td>\n",
       "    </tr>\n",
       "    <tr>\n",
       "        <td>38000</td>\n",
       "    </tr>\n",
       "    <tr>\n",
       "        <td>25000</td>\n",
       "    </tr>\n",
       "    <tr>\n",
       "        <td>25000</td>\n",
       "    </tr>\n",
       "    <tr>\n",
       "        <td>25000</td>\n",
       "    </tr>\n",
       "</table>"
      ],
      "text/plain": [
       "[(55000,),\n",
       " (40000,),\n",
       " (43000,),\n",
       " (30000,),\n",
       " (38000,),\n",
       " (25000,),\n",
       " (25000,),\n",
       " (25000,)]"
      ]
     },
     "execution_count": 110,
     "metadata": {},
     "output_type": "execute_result"
    }
   ],
   "source": [
    "\"\"\"\n",
    "Expected output below\n",
    "\n",
    "Don't re-execute this cell!\n",
    "\"\"\""
   ]
  },
  {
   "cell_type": "markdown",
   "metadata": {},
   "source": [
    "Query 19a: Retrieve all distinct salary values"
   ]
  },
  {
   "cell_type": "code",
   "execution_count": null,
   "metadata": {},
   "outputs": [],
   "source": [
    "%%sql "
   ]
  },
  {
   "cell_type": "code",
   "execution_count": 111,
   "metadata": {},
   "outputs": [
    {
     "name": "stdout",
     "output_type": "stream",
     "text": [
      " * sqlite:///enterprise_data.db\n",
      "Done.\n"
     ]
    },
    {
     "data": {
      "text/html": [
       "<table>\n",
       "    <tr>\n",
       "        <th>SALARY</th>\n",
       "    </tr>\n",
       "    <tr>\n",
       "        <td>55000</td>\n",
       "    </tr>\n",
       "    <tr>\n",
       "        <td>40000</td>\n",
       "    </tr>\n",
       "    <tr>\n",
       "        <td>43000</td>\n",
       "    </tr>\n",
       "    <tr>\n",
       "        <td>30000</td>\n",
       "    </tr>\n",
       "    <tr>\n",
       "        <td>38000</td>\n",
       "    </tr>\n",
       "    <tr>\n",
       "        <td>25000</td>\n",
       "    </tr>\n",
       "</table>"
      ],
      "text/plain": [
       "[(55000,), (40000,), (43000,), (30000,), (38000,), (25000,)]"
      ]
     },
     "execution_count": 111,
     "metadata": {},
     "output_type": "execute_result"
    }
   ],
   "source": [
    "\"\"\"\n",
    "Expected output below\n",
    "\n",
    "Don't re-execute this cell!\n",
    "\"\"\""
   ]
  },
  {
   "cell_type": "markdown",
   "metadata": {},
   "source": [
    "Query 20: Retrieve all employees whose address is in `Houston, TX`"
   ]
  },
  {
   "cell_type": "code",
   "execution_count": null,
   "metadata": {},
   "outputs": [],
   "source": [
    "%%sql "
   ]
  },
  {
   "cell_type": "code",
   "execution_count": 117,
   "metadata": {},
   "outputs": [
    {
     "name": "stdout",
     "output_type": "stream",
     "text": [
      " * sqlite:///enterprise_data.db\n",
      "Done.\n"
     ]
    },
    {
     "data": {
      "text/html": [
       "<table>\n",
       "    <tr>\n",
       "        <th>FNAME</th>\n",
       "        <th>LNAME</th>\n",
       "    </tr>\n",
       "    <tr>\n",
       "        <td>James</td>\n",
       "        <td>Borg</td>\n",
       "    </tr>\n",
       "    <tr>\n",
       "        <td>Franklin</td>\n",
       "        <td>Wong</td>\n",
       "    </tr>\n",
       "    <tr>\n",
       "        <td>John</td>\n",
       "        <td>Smith</td>\n",
       "    </tr>\n",
       "    <tr>\n",
       "        <td>Joyce</td>\n",
       "        <td>English</td>\n",
       "    </tr>\n",
       "    <tr>\n",
       "        <td>Ahmad</td>\n",
       "        <td>Jabbar</td>\n",
       "    </tr>\n",
       "</table>"
      ],
      "text/plain": [
       "[(u'James', u'Borg'),\n",
       " (u'Franklin', u'Wong'),\n",
       " (u'John', u'Smith'),\n",
       " (u'Joyce', u'English'),\n",
       " (u'Ahmad', u'Jabbar')]"
      ]
     },
     "execution_count": 117,
     "metadata": {},
     "output_type": "execute_result"
    }
   ],
   "source": [
    "\"\"\"\n",
    "Expected output below\n",
    "\n",
    "Don't re-execute this cell!\n",
    "\"\"\""
   ]
  },
  {
   "cell_type": "markdown",
   "metadata": {},
   "source": [
    "Query 21: Show the resulting salaries if every employee working on the ‘ProductX’ project is given a 10 percent raise"
   ]
  },
  {
   "cell_type": "code",
   "execution_count": null,
   "metadata": {},
   "outputs": [],
   "source": [
    "%%sql "
   ]
  },
  {
   "cell_type": "code",
   "execution_count": 120,
   "metadata": {},
   "outputs": [
    {
     "name": "stdout",
     "output_type": "stream",
     "text": [
      " * sqlite:///enterprise_data.db\n",
      "Done.\n"
     ]
    },
    {
     "data": {
      "text/html": [
       "<table>\n",
       "    <tr>\n",
       "        <th>FNAME</th>\n",
       "        <th>LNAME</th>\n",
       "        <th>1.1*SALARY</th>\n",
       "    </tr>\n",
       "    <tr>\n",
       "        <td>John</td>\n",
       "        <td>Smith</td>\n",
       "        <td>33000.0</td>\n",
       "    </tr>\n",
       "    <tr>\n",
       "        <td>Joyce</td>\n",
       "        <td>English</td>\n",
       "        <td>27500.0</td>\n",
       "    </tr>\n",
       "</table>"
      ],
      "text/plain": [
       "[(u'John', u'Smith', 33000.0), (u'Joyce', u'English', 27500.000000000004)]"
      ]
     },
     "execution_count": 120,
     "metadata": {},
     "output_type": "execute_result"
    }
   ],
   "source": [
    "\"\"\"\n",
    "Expected output below\n",
    "\n",
    "Don't re-execute this cell!\n",
    "\"\"\""
   ]
  },
  {
   "cell_type": "markdown",
   "metadata": {},
   "source": [
    "Query 22: Retrieve all employees in department 5 whose salary is between 30,000 and 40,000"
   ]
  },
  {
   "cell_type": "code",
   "execution_count": null,
   "metadata": {},
   "outputs": [],
   "source": [
    "%%sql "
   ]
  },
  {
   "cell_type": "code",
   "execution_count": 121,
   "metadata": {},
   "outputs": [
    {
     "name": "stdout",
     "output_type": "stream",
     "text": [
      " * sqlite:///enterprise_data.db\n",
      "Done.\n"
     ]
    },
    {
     "data": {
      "text/html": [
       "<table>\n",
       "    <tr>\n",
       "        <th>FNAME</th>\n",
       "        <th>MINIT</th>\n",
       "        <th>LNAME</th>\n",
       "        <th>SSN</th>\n",
       "        <th>BDATE</th>\n",
       "        <th>ADDRESS</th>\n",
       "        <th>SEX</th>\n",
       "        <th>SALARY</th>\n",
       "        <th>SUPERSSN</th>\n",
       "        <th>DNO</th>\n",
       "    </tr>\n",
       "    <tr>\n",
       "        <td>Franklin</td>\n",
       "        <td>T</td>\n",
       "        <td>Wong</td>\n",
       "        <td>333445555</td>\n",
       "        <td>1945-12-08</td>\n",
       "        <td>638 Voss, Houston, TX</td>\n",
       "        <td>M</td>\n",
       "        <td>40000</td>\n",
       "        <td>888665555</td>\n",
       "        <td>5</td>\n",
       "    </tr>\n",
       "    <tr>\n",
       "        <td>John</td>\n",
       "        <td>B</td>\n",
       "        <td>Smith</td>\n",
       "        <td>123456789</td>\n",
       "        <td>1955-01-09</td>\n",
       "        <td>731 Fondren Houston, TX</td>\n",
       "        <td>M</td>\n",
       "        <td>30000</td>\n",
       "        <td>3334455555</td>\n",
       "        <td>5</td>\n",
       "    </tr>\n",
       "    <tr>\n",
       "        <td>Ramesh</td>\n",
       "        <td>K</td>\n",
       "        <td>Narayan</td>\n",
       "        <td>666884444</td>\n",
       "        <td>1952-09-15</td>\n",
       "        <td>975 Fire Oak, Humble, TX</td>\n",
       "        <td>M</td>\n",
       "        <td>38000</td>\n",
       "        <td>333445555</td>\n",
       "        <td>5</td>\n",
       "    </tr>\n",
       "</table>"
      ],
      "text/plain": [
       "[(u'Franklin', u'T', u'Wong', u'333445555', u'1945-12-08', u'638 Voss, Houston, TX', u'M', 40000, u'888665555', 5),\n",
       " (u'John', u'B', u'Smith', u'123456789', u'1955-01-09', u'731 Fondren Houston, TX', u'M', 30000, u'3334455555', 5),\n",
       " (u'Ramesh', u'K', u'Narayan', u'666884444', u'1952-09-15', u'975 Fire Oak, Humble, TX', u'M', 38000, u'333445555', 5)]"
      ]
     },
     "execution_count": 121,
     "metadata": {},
     "output_type": "execute_result"
    }
   ],
   "source": [
    "\"\"\"\n",
    "Expected output below\n",
    "\n",
    "Don't re-execute this cell!\n",
    "\"\"\""
   ]
  },
  {
   "cell_type": "markdown",
   "metadata": {},
   "source": [
    "Query 23: Retrieve a list of employees and the projects they are working on, ordered by department and, within each department, ordered alphabetically by last name, first name"
   ]
  },
  {
   "cell_type": "code",
   "execution_count": null,
   "metadata": {},
   "outputs": [],
   "source": [
    "%%sql "
   ]
  },
  {
   "cell_type": "code",
   "execution_count": 122,
   "metadata": {},
   "outputs": [
    {
     "name": "stdout",
     "output_type": "stream",
     "text": [
      " * sqlite:///enterprise_data.db\n",
      "Done.\n"
     ]
    },
    {
     "data": {
      "text/html": [
       "<table>\n",
       "    <tr>\n",
       "        <th>DNAME</th>\n",
       "        <th>LNAME</th>\n",
       "        <th>FNAME</th>\n",
       "        <th>PNAME</th>\n",
       "    </tr>\n",
       "    <tr>\n",
       "        <td>Research</td>\n",
       "        <td>English</td>\n",
       "        <td>Joyce</td>\n",
       "        <td>ProductX</td>\n",
       "    </tr>\n",
       "    <tr>\n",
       "        <td>Research</td>\n",
       "        <td>English</td>\n",
       "        <td>Joyce</td>\n",
       "        <td>ProductY</td>\n",
       "    </tr>\n",
       "    <tr>\n",
       "        <td>Research</td>\n",
       "        <td>Narayan</td>\n",
       "        <td>Ramesh</td>\n",
       "        <td>ProductZ</td>\n",
       "    </tr>\n",
       "    <tr>\n",
       "        <td>Research</td>\n",
       "        <td>Smith</td>\n",
       "        <td>John</td>\n",
       "        <td>ProductX</td>\n",
       "    </tr>\n",
       "    <tr>\n",
       "        <td>Research</td>\n",
       "        <td>Smith</td>\n",
       "        <td>John</td>\n",
       "        <td>ProductY</td>\n",
       "    </tr>\n",
       "    <tr>\n",
       "        <td>Research</td>\n",
       "        <td>Wong</td>\n",
       "        <td>Franklin</td>\n",
       "        <td>ProductY</td>\n",
       "    </tr>\n",
       "    <tr>\n",
       "        <td>Research</td>\n",
       "        <td>Wong</td>\n",
       "        <td>Franklin</td>\n",
       "        <td>ProductZ</td>\n",
       "    </tr>\n",
       "    <tr>\n",
       "        <td>Research</td>\n",
       "        <td>Wong</td>\n",
       "        <td>Franklin</td>\n",
       "        <td>Computerization</td>\n",
       "    </tr>\n",
       "    <tr>\n",
       "        <td>Research</td>\n",
       "        <td>Wong</td>\n",
       "        <td>Franklin</td>\n",
       "        <td>Reorganization</td>\n",
       "    </tr>\n",
       "    <tr>\n",
       "        <td>Headquarters</td>\n",
       "        <td>Borg</td>\n",
       "        <td>James</td>\n",
       "        <td>Reorganization</td>\n",
       "    </tr>\n",
       "    <tr>\n",
       "        <td>Administration</td>\n",
       "        <td>Jabbar</td>\n",
       "        <td>Ahmad</td>\n",
       "        <td>Computerization</td>\n",
       "    </tr>\n",
       "    <tr>\n",
       "        <td>Administration</td>\n",
       "        <td>Jabbar</td>\n",
       "        <td>Ahmad</td>\n",
       "        <td>NewBenefits</td>\n",
       "    </tr>\n",
       "    <tr>\n",
       "        <td>Administration</td>\n",
       "        <td>Wallace</td>\n",
       "        <td>Jennifer</td>\n",
       "        <td>Reorganization</td>\n",
       "    </tr>\n",
       "    <tr>\n",
       "        <td>Administration</td>\n",
       "        <td>Wallace</td>\n",
       "        <td>Jennifer</td>\n",
       "        <td>NewBenefits</td>\n",
       "    </tr>\n",
       "    <tr>\n",
       "        <td>Administration</td>\n",
       "        <td>Zalaya</td>\n",
       "        <td>Alicia</td>\n",
       "        <td>Computerization</td>\n",
       "    </tr>\n",
       "    <tr>\n",
       "        <td>Administration</td>\n",
       "        <td>Zalaya</td>\n",
       "        <td>Alicia</td>\n",
       "        <td>NewBenefits</td>\n",
       "    </tr>\n",
       "</table>"
      ],
      "text/plain": [
       "[(u'Research', u'English', u'Joyce', u'ProductX'),\n",
       " (u'Research', u'English', u'Joyce', u'ProductY'),\n",
       " (u'Research', u'Narayan', u'Ramesh', u'ProductZ'),\n",
       " (u'Research', u'Smith', u'John', u'ProductX'),\n",
       " (u'Research', u'Smith', u'John', u'ProductY'),\n",
       " (u'Research', u'Wong', u'Franklin', u'ProductY'),\n",
       " (u'Research', u'Wong', u'Franklin', u'ProductZ'),\n",
       " (u'Research', u'Wong', u'Franklin', u'Computerization'),\n",
       " (u'Research', u'Wong', u'Franklin', u'Reorganization'),\n",
       " (u'Headquarters', u'Borg', u'James', u'Reorganization'),\n",
       " (u'Administration', u'Jabbar', u'Ahmad', u'Computerization'),\n",
       " (u'Administration', u'Jabbar', u'Ahmad', u'NewBenefits'),\n",
       " (u'Administration', u'Wallace', u'Jennifer', u'Reorganization'),\n",
       " (u'Administration', u'Wallace', u'Jennifer', u'NewBenefits'),\n",
       " (u'Administration', u'Zalaya', u'Alicia', u'Computerization'),\n",
       " (u'Administration', u'Zalaya', u'Alicia', u'NewBenefits')]"
      ]
     },
     "execution_count": 122,
     "metadata": {},
     "output_type": "execute_result"
    }
   ],
   "source": [
    "\"\"\"\n",
    "Expected output below\n",
    "\n",
    "Don't re-execute this cell!\n",
    "\"\"\""
   ]
  },
  {
   "cell_type": "markdown",
   "metadata": {},
   "source": [
    "Query 24: Retrieve the total number of employees in the company"
   ]
  },
  {
   "cell_type": "code",
   "execution_count": null,
   "metadata": {},
   "outputs": [],
   "source": [
    "%%sql "
   ]
  },
  {
   "cell_type": "code",
   "execution_count": 125,
   "metadata": {},
   "outputs": [
    {
     "name": "stdout",
     "output_type": "stream",
     "text": [
      " * sqlite:///enterprise_data.db\n",
      "Done.\n"
     ]
    },
    {
     "data": {
      "text/html": [
       "<table>\n",
       "    <tr>\n",
       "        <th>COUNT (*)</th>\n",
       "    </tr>\n",
       "    <tr>\n",
       "        <td>8</td>\n",
       "    </tr>\n",
       "</table>"
      ],
      "text/plain": [
       "[(8,)]"
      ]
     },
     "execution_count": 125,
     "metadata": {},
     "output_type": "execute_result"
    }
   ],
   "source": [
    "\"\"\"\n",
    "Expected output below\n",
    "\n",
    "Don't re-execute this cell!\n",
    "\"\"\""
   ]
  },
  {
   "cell_type": "markdown",
   "metadata": {},
   "source": [
    "Query 25: Retrieve the number of employees in the 'Research' department"
   ]
  },
  {
   "cell_type": "code",
   "execution_count": null,
   "metadata": {},
   "outputs": [],
   "source": [
    "%%sql "
   ]
  },
  {
   "cell_type": "code",
   "execution_count": 126,
   "metadata": {},
   "outputs": [
    {
     "name": "stdout",
     "output_type": "stream",
     "text": [
      " * sqlite:///enterprise_data.db\n",
      "Done.\n"
     ]
    },
    {
     "data": {
      "text/html": [
       "<table>\n",
       "    <tr>\n",
       "        <th>COUNT (*)</th>\n",
       "    </tr>\n",
       "    <tr>\n",
       "        <td>4</td>\n",
       "    </tr>\n",
       "</table>"
      ],
      "text/plain": [
       "[(4,)]"
      ]
     },
     "execution_count": 126,
     "metadata": {},
     "output_type": "execute_result"
    }
   ],
   "source": [
    "\"\"\"\n",
    "Expected output below\n",
    "\n",
    "Don't re-execute this cell!\n",
    "\"\"\""
   ]
  },
  {
   "cell_type": "markdown",
   "metadata": {},
   "source": [
    "Query 26: Count the number of distinct salary values in the database"
   ]
  },
  {
   "cell_type": "code",
   "execution_count": null,
   "metadata": {},
   "outputs": [],
   "source": [
    "%%sql "
   ]
  },
  {
   "cell_type": "code",
   "execution_count": 127,
   "metadata": {},
   "outputs": [
    {
     "name": "stdout",
     "output_type": "stream",
     "text": [
      " * sqlite:///enterprise_data.db\n",
      "Done.\n"
     ]
    },
    {
     "data": {
      "text/html": [
       "<table>\n",
       "    <tr>\n",
       "        <th>COUNT (DISTINCT SALARY)</th>\n",
       "    </tr>\n",
       "    <tr>\n",
       "        <td>6</td>\n",
       "    </tr>\n",
       "</table>"
      ],
      "text/plain": [
       "[(6,)]"
      ]
     },
     "execution_count": 127,
     "metadata": {},
     "output_type": "execute_result"
    }
   ],
   "source": [
    "\"\"\"\n",
    "Expected output below\n",
    "\n",
    "Don't re-execute this cell!\n",
    "\"\"\""
   ]
  },
  {
   "cell_type": "markdown",
   "metadata": {},
   "source": [
    "Query 27: For each project, retrieve the project number, the project name, and the number of employees from department 5 who work on the project"
   ]
  },
  {
   "cell_type": "code",
   "execution_count": null,
   "metadata": {},
   "outputs": [],
   "source": [
    "%%sql "
   ]
  },
  {
   "cell_type": "code",
   "execution_count": 131,
   "metadata": {},
   "outputs": [
    {
     "name": "stdout",
     "output_type": "stream",
     "text": [
      " * sqlite:///enterprise_data.db\n",
      "Done.\n"
     ]
    },
    {
     "data": {
      "text/html": [
       "<table>\n",
       "    <tr>\n",
       "        <th>PNUMBER</th>\n",
       "        <th>PNAME</th>\n",
       "        <th>COUNT (*)</th>\n",
       "    </tr>\n",
       "    <tr>\n",
       "        <td>1</td>\n",
       "        <td>ProductX</td>\n",
       "        <td>2</td>\n",
       "    </tr>\n",
       "    <tr>\n",
       "        <td>2</td>\n",
       "        <td>ProductY</td>\n",
       "        <td>3</td>\n",
       "    </tr>\n",
       "    <tr>\n",
       "        <td>3</td>\n",
       "        <td>ProductZ</td>\n",
       "        <td>2</td>\n",
       "    </tr>\n",
       "    <tr>\n",
       "        <td>10</td>\n",
       "        <td>Computerization</td>\n",
       "        <td>1</td>\n",
       "    </tr>\n",
       "    <tr>\n",
       "        <td>20</td>\n",
       "        <td>Reorganization</td>\n",
       "        <td>1</td>\n",
       "    </tr>\n",
       "</table>"
      ],
      "text/plain": [
       "[(1, u'ProductX', 2),\n",
       " (2, u'ProductY', 3),\n",
       " (3, u'ProductZ', 2),\n",
       " (10, u'Computerization', 1),\n",
       " (20, u'Reorganization', 1)]"
      ]
     },
     "execution_count": 131,
     "metadata": {},
     "output_type": "execute_result"
    }
   ],
   "source": [
    "\"\"\"\n",
    "Expected output below\n",
    "\n",
    "Don't re-execute this cell!\n",
    "\"\"\""
   ]
  },
  {
   "cell_type": "markdown",
   "metadata": {},
   "source": [
    "Query 28: For each department that has more than two employees, retrieve the department number and the number of its employees who are making more than 40,000"
   ]
  },
  {
   "cell_type": "code",
   "execution_count": null,
   "metadata": {},
   "outputs": [],
   "source": [
    "%%sql "
   ]
  },
  {
   "cell_type": "code",
   "execution_count": 135,
   "metadata": {},
   "outputs": [
    {
     "name": "stdout",
     "output_type": "stream",
     "text": [
      " * sqlite:///enterprise_data.db\n",
      "Done.\n"
     ]
    },
    {
     "data": {
      "text/html": [
       "<table>\n",
       "    <tr>\n",
       "        <th>DNUMBER</th>\n",
       "        <th>COUNT (*)</th>\n",
       "    </tr>\n",
       "    <tr>\n",
       "        <td>4</td>\n",
       "        <td>1</td>\n",
       "    </tr>\n",
       "</table>"
      ],
      "text/plain": [
       "[(4, 1)]"
      ]
     },
     "execution_count": 135,
     "metadata": {},
     "output_type": "execute_result"
    }
   ],
   "source": [
    "\"\"\"\n",
    "Expected output below\n",
    "\n",
    "Don't re-execute this cell!\n",
    "\"\"\""
   ]
  }
 ],
 "metadata": {
  "kernelspec": {
   "display_name": "Python 2",
   "language": "python",
   "name": "python2"
  },
  "language_info": {
   "codemirror_mode": {
    "name": "ipython",
    "version": 2
   },
   "file_extension": ".py",
   "mimetype": "text/x-python",
   "name": "python",
   "nbconvert_exporter": "python",
   "pygments_lexer": "ipython2",
   "version": "2.7.15"
  }
 },
 "nbformat": 4,
 "nbformat_minor": 2
}

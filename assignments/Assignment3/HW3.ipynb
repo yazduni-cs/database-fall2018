{
 "cells": [
  {
   "cell_type": "code",
   "execution_count": null,
   "metadata": {},
   "outputs": [],
   "source": [
    "%load_ext sql\n",
    "%sql sqlite:///"
   ]
  },
  {
   "cell_type": "markdown",
   "metadata": {},
   "source": [
    "<div dir=\"rtl\" style=\"font-family:Tahoma\">\n",
    "\n",
    "تمرین شماره ۳\n",
    "=======\n",
    "\n",
    "### توضیحات کلی:\n",
    "\n",
    "**_این بخش را با دقت بخوانید_**\n",
    "\n",
    "* برای این تمرین هیچ جدول داده‌ای وجود ندارد و شما باید جداول مورد نیاز رو بعنوان جواب مسائل یا برای تست کردن جواب‌های خودتون بسازید.\n",
    "* شما **می‌توانید** سلول‌های جدیدی در این نوت‌بوک ایجاد کنید، مثلا برای تست، عیب‌یابی یا کاوش اطلاعات. در واقع توصیه‌ی ما این هست که حتما این کار را انجام دهید.\n",
    "* وقتی عبارت `In [*]:` را در سمت چپ سلولی که در حال اجرایش هستید، مشاهده می‌کنید، بدین معنیست که کد یا درخواست شما در حال اجراست.\n",
    "    * **اگر سلول هنگ کرد (یعنی برای مدت زمان زیادی اجرایش ادامه پیدا کرد) برای ریستارت کردن ارتباط SQL، باید کل کرنل پایتون را ریستارت کنید**\n",
    "    * برای ریستارت کردن کرنل پایتون میتوانید از منوی بالای صفحه استفاده کنید: \"Kernel >> Restart & Clear Output\" و سپس سلول بالای این صفحه را مجددا اجرا کنید تا اتصال به پایگاه داده مجددا انجام شود.\n",
    "* به خاطر داشته باشید:\n",
    "    * <div dir=\"ltr\">%sql [SQL]</div> برای کوئری‌های _تک خطی_ هست.\n",
    "    * <div dir=\"ltr\">%%sql [SQL]</div> برای کوئری‌های _چند خطی_ هست.\n",
    "* در صورتی که به مشکلی برخوردید و سوالی داشتید از طریق [این فروم](http://el.yazd.ac.ir/lms/mod/forum/discuss.php?d=4321) در سامیاد میتوانید سؤالتان را بپرسید.\n",
    "\n",
    "### توضیحات ارسال تمرین:\n",
    " * فایل iPython notebook مربوط به این تمرین را ارسال **_نکنید_**.\n",
    " * هر کدام از کوئری‌هایتان را به مکان مشخص شده برای همان کوئری درون اسکریپت `submit.py` کپی کنید.\n",
    "   * دستورات `%sql` یا `%%sql` را کپی **_نکنید_** و فقط کوئری را کپی کنید.\n",
    "   * ما کوئری‌های شما را روی یک پایگاه داده‌ی خالی اجرا کرده و بصورت اتوماتیک نمره‌دهی می‌کنیم.\n",
    " * **پس از قرار دادن جواب‌هایتان درون فایل `submit.py`، این فایل را در قسمت مربوط به همین تمرین در سامیاد آپلود کنید**\n",
    "\n",
    "_خوش بگذره!_\n",
    "\n",
    "</div>\n"
   ]
  },
  {
   "cell_type": "markdown",
   "metadata": {},
   "source": [
    "<div dir=\"rtl\" style=\"font-family:Tahoma\">\n",
    "    \n",
    "مسئله‌ی شماره یک\n",
    "---------\n",
    "</div>\n",
    "<div dir=\"rtl\" style=\"font-family:Tahoma\">\n",
    "    \n",
    "**_[۱۵ نمره از کل]_**\n",
    "</div>\n",
    "\n",
    "<div dir=\"rtl\" style=\"font-family:Tahoma\">\n",
    "برای هر بخش از مسئله شما باید یک کوئری بنویسید که برقراری یا عدم برقراری یک شرط مشخص را بر روی یک نمونه‌ی خاص از یک رابطه را بدین صورت چک می‌کند: \n",
    "   </div>\n",
    "\n",
    "<div dir=\"rtl\" style=\"font-family:Tahoma\">\n",
    "    \n",
    "   **کوئری شما فقط و فقط در صورتی که شرط مورد نظر بر روی نمونه‌رابطه‌ی مورد نظر برقرار باشد، باید هیچ نتیجه‌ای برنگرداند (یا بعبارتی نتیجه‌ی خالی برگرداند**) (اگر شرط مورد نظر برقرار نباشد، کوئری شما باید یک نتیجه‌ای غیر از خالی برگرداند، ولی مهم نیست که آن چیزی که برمیگرداند چه باشد (و اینکه چه تعداد سطر یا ستون داشته باشد اصلا مهم نیست).) \n",
    "</div>\n",
    "\n",
    "<div dir=\"rtl\" style=\"font-family:Tahoma\">\n",
    "    \n",
    "به نحوه‌ی بیان سوالات ما در اینجا توجه داشته باشید:\n",
    "برقراری شرایطی که ما تعریف کرده‌ایم **به طور عمومی** و بدون دانستن وابستگی های  تابعی تعریف‌شده‌ی خارجی قابل اثبات نیست\n",
    "بنابر این منظور ما این است که بررسی کنید ایا انها **می توانند** بطور عمومی برای رابطه‌ی داده‌شده در ازای هر مجموعه رکورد مشخص ممکن در آن رابطه برقرار باشند یا خیر. \n",
    "</div>\n",
    "\n",
    "<div dir=\"rtl\" style=\"font-family:Tahoma\">\n",
    " می‌توانید فرض کنید که مقدار null در جدول **وجود ندارد** و همچنین می‌توانید فرض کنید که روابط به صورت set هستند تا اینکه multi-set باشند (یعنی تکرار در جداول نداریم) ولی به غیر از این، کوئری‌های شما باید برای هر نمونه جدولی کار کنند.\n",
    "</div>\n",
    "\n",
    "<div dir=\"rtl\" style=\"font-family:Tahoma\">\n",
    "برای راحتی شما، شمای جداولی که در این تمرین استفاده شده، در سلول زیر آمده است، ولی اگر میخواهید که جواب‌هایتان را برای این تمرین چک کنید، لازم است که داده‌های مناسب را درون این جداول تستی اضافه نمایید.\n",
    "</div>"
   ]
  },
  {
   "cell_type": "code",
   "execution_count": null,
   "metadata": {},
   "outputs": [],
   "source": [
    "%%sql\n",
    "DROP TABLE IF EXISTS R; CREATE TABLE R (W INT, X INT, Y INT, Z INT);\n",
    "DROP TABLE IF EXISTS Cat; CREATE TABLE Cat(cat_name TEXT, breed TEXT, owner_name TEXT);\n",
    "DROP TABLE IF EXISTS Owner; CREATE TABLE Owner(owner_name TEXT, ssn INT, hometown TEXT);\n",
    "DROP TABLE IF EXISTS S; CREATE TABLE S (A INT, B INT, C INT, D INT, E INT);"
   ]
  },
  {
   "cell_type": "markdown",
   "metadata": {},
   "source": [
    "<div dir=\"rtl\" style=\"font-family:Tahoma\">\n",
    "    \n",
    "### بخش (a)\n",
    "\n",
    "**_[۵ نمره از ۱۵ نمره‌ی این بخش]_**\n",
    "</div>\n",
    "\n",
    "<div dir=\"rtl\" style=\"font-family:Tahoma\">\n",
    "آیا $\\{X, Y\\}$ برای رابطه‌ی $R(W,X,Y,Z)$ سوپرکلید هست؟\n",
    "</div>"
   ]
  },
  {
   "cell_type": "code",
   "execution_count": null,
   "metadata": {},
   "outputs": [],
   "source": [
    "%%sql"
   ]
  },
  {
   "cell_type": "markdown",
   "metadata": {},
   "source": [
    "<div dir=\"rtl\" style=\"font-family:Tahoma\">\n",
    "\n",
    "### بخش (b)\n",
    "\n",
    "**_[۵ نمره از ۱۵ نمره‌ی این بخش]_**\n",
    "</div>\n",
    "\n",
    "<div dir=\"rtl\" style=\"font-family:Tahoma\">\n",
    "هر کدام از صفات (attributeهای) رابطه‌ی $R(W,X,Y,Z)$   خودشان به تنهایی کلید هستند؟\n",
    "\n",
    "</div>"
   ]
  },
  {
   "cell_type": "code",
   "execution_count": null,
   "metadata": {},
   "outputs": [],
   "source": [
    "%%sql"
   ]
  },
  {
   "cell_type": "markdown",
   "metadata": {},
   "source": [
    "<div dir=\"rtl\" style=\"font-family:Tahoma\">\n",
    "\n",
    "### بخش (c)\n",
    "\n",
    "**_[۵ نمره از ۱۵ نمره‌ی این بخش]_**\n",
    "</div>\n",
    "<div dir=\"rtl\" style=\"font-family:Tahoma\">\n",
    "وابستگی چند‌مقداری $\\{B\\}\\twoheadrightarrow \\{D,E\\}$ برای رابطه‌ی $S(A, B, C, D, E)$ برقرار است؟\n",
    "</div>\n"
   ]
  },
  {
   "cell_type": "code",
   "execution_count": null,
   "metadata": {},
   "outputs": [],
   "source": [
    "%%sql"
   ]
  },
  {
   "cell_type": "markdown",
   "metadata": {},
   "source": [
    "<div dir=\"rtl\" style=\"font-family:Tahoma\">\n",
    "    \n",
    "مسئله‌ی شماره دو\n",
    "---------\n",
    "</div>\n",
    "<div dir=\"rtl\" style=\"font-family:Tahoma\">\n",
    "    \n",
    "**_[۲۰ نمره از کل]_**\n",
    "</div>\n",
    "\n",
    "<div dir=\"rtl\" style=\"font-family:Tahoma\">\n",
    "    \n",
    "### بخش (a)\n",
    "\n",
    "**_[۱۰ نمره از ۲۰ نمره‌ی این بخش]_**\n",
    "</div>\n",
    "\n",
    "<div dir=\"rtl\" style=\"font-family:Tahoma\">\n",
    "رابطه‌ی $T(V,W,X,Y,Z)$ را در نظر بگیرید. _دو مجموعه‌ی متفاوت_ از وابستگی‌های تابعی `F_1` و `F_2` را پیدا کنید که باعث می‌شوند **بیشترین تعداد کلید‌هایی** که $T$ می‌تواند داشته باشد، محقق شود.\n",
    "<br/>\n",
    "لیست‌های وابستگی‌های تابعی که پیدا کردید را بصورت یک لیست پایتون ذخیره کنید که هر المان از این لیست حاوی یک دو‌تایی از مجموعه (set) باشد. برای مثال، برای ذخیره‌ی `F_1` بعنوان مجموعه‌ای که حاوی دو وابستگی تابعی $\\{V,W\\}\\rightarrow\\{X,Y\\}$ و $\\{W\\}\\rightarrow\\{X\\}$ است:\n",
    "\n",
    "```python\n",
    "F_1 = [(set(['V','W']), set(['X','Y'])), (set(['W']), set(['X']))]\n",
    "```\n",
    "<br/>\n",
    "**توجه: لزومی ندارد که مجموعه‌ی وابستگی‌های تابعی ذکر شده در مثال بالا، یکی از جواب‌ها باشد و صرفا یک مثال برای ذکر روش نوشتن مجموعه‌ی وابستگی تابعی است.**\n",
    "<br/>\n",
    "تذکر: شما مجاز هستید که در صورت نیاز از توابعی که در فعالیت های کلاس بکار رفته، استفاده نمایید. البته جواب نهایی نباید به صورت مستقیم شامل این توابع باشد و به کار بردن این توابع برای جواب به این سوال نیز الزامی نیست.\n",
    "\n",
    "\n",
    "   </div>\n"
   ]
  },
  {
   "cell_type": "code",
   "execution_count": null,
   "metadata": {},
   "outputs": [],
   "source": [
    "F_1 = []\n",
    "\n",
    "F_2 = []"
   ]
  },
  {
   "cell_type": "markdown",
   "metadata": {},
   "source": [
    "<div dir=\"rtl\" style=\"font-family:Tahoma\">\n",
    "    \n",
    "### بخش (b)\n",
    "\n",
    "**_[۱۰ نمره از ۲۰ نمره‌ی این بخش]_**\n",
    "</div>\n",
    "<div dir=\"rtl\" style=\"font-family:Tahoma\">\n",
    "شمای جدول $T(A_1,...,A_n)$ را که وابستگی‌های تابعی $\\{A_i,A_{i+1}\\}\\rightarrow\\{A_{i+2}\\}$ برای $i=1,...,n-2$ بر روی آن برقرار است را در نظر بگیرید.\n",
    "یک نمونه از جدول $T$ را برای $n=4$ ایجاد کنید که این وابستگی‌های تابعی بر روی آن برقرار باشند و هیچ وابستگی تابعی دیگری بر روی آن نتواند برقرار شود. بدین معنی که از تمامی وابستگی‌های تابعی دیگر به غیر از این وابستگی‌های تابعی داده شده، تخطی شود.\n",
    "<br/>\n",
    "یک سری دستورات `INSERT` در زیر اضافه نمایید که مقادیر مورد نظرتان را به جدول $T$ اضافه کنید:\n",
    "   </div>"
   ]
  },
  {
   "cell_type": "code",
   "execution_count": null,
   "metadata": {},
   "outputs": [],
   "source": [
    "%%sql\n",
    "DROP TABLE IF EXISTS T; \n",
    "CREATE TABLE T (A int, B int, C int, D int);"
   ]
  },
  {
   "cell_type": "markdown",
   "metadata": {},
   "source": [
    "<div dir=\"rtl\" style=\"font-family:Tahoma\">\n",
    "    \n",
    "مسئله‌ی شماره سه\n",
    "---------\n",
    "</div>\n",
    "<div dir=\"rtl\" style=\"font-family:Tahoma\">\n",
    "    \n",
    "**_[۳۰ نمره از کل]_**\n",
    "</div>\n",
    "<div dir=\"rtl\" style=\"font-family:Tahoma\">\n",
    "رابطه ی $R(X,Y,Z)$  را در نظر بگیرید. در هر قسمت از این مسئله به شما شرایطی داده میشود و شما نیاز به ساختن سه نمونه از $R$ (بصورت جداولی در SQL) دارید (یعنی باید دستور ایجاد جدول و اضافه کردن رکوردهای مورد نیاز درون جدول را بنویسید): \n",
    "<br/>\n",
    "1.یک نمونه جدول A\n",
    "<br/>\n",
    "2. یک نمونه جدول B با این تفاوت از A که در B یک رکورد کمتر از A باشد و هر رکورد در B باید در A هم باشد\n",
    "<br/>\n",
    "2. یک نمونه جدول C با این تفاوت از A که در C یک رکورد بیشتر از A باشد و به غیر از این رکورد اضافه، هر رکورد در C باید در A هم باشد\n",
    "\n",
    "  </div>"
   ]
  },
  {
   "cell_type": "markdown",
   "metadata": {},
   "source": [
    "<div dir=\"rtl\" style=\"font-family:Tahoma\">\n",
    "    \n",
    "### بخش (a)\n",
    "\n",
    "**_[۱۰ نمره از ۳۰ نمره‌ی این بخش]_**\n",
    "</div>\n",
    "\n",
    "<div dir=\"rtl\" style=\"font-family:Tahoma\">\n",
    "A و B و C را طوری ایجاد کنید که هر صفت یک کلید برای A  باشد ولی هیچکدام از صفت‌ها (به تنهایی) کلیدی برای B یا C نباشد.\n",
    "<br/>\n",
    "اگر معتقدید که B و/یا C نمی‌توانند ساخته شوند، آنها را به عنوان یک جدول خالی ارائه دهید.\n",
    "    <div/>"
   ]
  },
  {
   "cell_type": "code",
   "execution_count": null,
   "metadata": {},
   "outputs": [],
   "source": [
    "%%sql\n",
    "DROP TABLE IF EXISTS A;\n",
    "DROP TABLE IF EXISTS B;\n",
    "DROP TABLE IF EXISTS C;"
   ]
  },
  {
   "cell_type": "markdown",
   "metadata": {},
   "source": [
    "<div dir=\"rtl\" style=\"font-family:Tahoma\">\n",
    "    \n",
    "### بخش (b)\n",
    "\n",
    "**_[۱۰ نمره از ۳۰ نمره‌ی این بخش]_**\n",
    "</div>\n",
    "\n",
    "<div dir=\"rtl\" style=\"font-family:Tahoma\">\n",
    "A و B و C را طوری ایجاد کنید که فقط وابستگی‌های تابعی$\\{Z\\} \\rightarrow \\{Y\\}$ و $\\{X,Z\\} \\rightarrow \\{Y\\}$ \n",
    "    بر روی B برقرار باشد, فقط وابستگی تابعی $\\{X,Z\\} \\rightarrow \\{Y\\}$\n",
    "بر روی A برقرار باشد و هیچ وابستگی‌تابعی‌ای بر روی C برقرار نباشد.\n",
    "<br/>\n",
    "اگر معتقدید که B و/یا C نمی‌توانند ساخته شوند، آنها را به عنوان یک جدول خالی ارائه دهید.\n",
    "<div/>"
   ]
  },
  {
   "cell_type": "code",
   "execution_count": null,
   "metadata": {},
   "outputs": [],
   "source": [
    "%%sql\n",
    "DROP TABLE IF EXISTS A;\n",
    "DROP TABLE IF EXISTS B;\n",
    "DROP TABLE IF EXISTS C;"
   ]
  },
  {
   "cell_type": "markdown",
   "metadata": {},
   "source": [
    "<div dir=\"rtl\" style=\"font-family:Tahoma\">\n",
    "    \n",
    "### بخش (c)\n",
    "\n",
    "**_[۱۰ نمره از ۳۰ نمره‌ی این بخش]_**\n",
    "</div>\n",
    "\n",
    "<div dir=\"rtl\" style=\"font-family:Tahoma\">\n",
    "جداول A و B و C را بصورتی ایجاد کنید که وابستگی چند مقداری $Z\\twoheadrightarrow X$ برای $A$ برقرار باشد ولی برای $B$ و $C$ برقرار نباشد.\n",
    "<br />\n",
    "اگر معتقدید که $B$ و/یا $C$ نمی‌توانند با چنین شرایطی ساخته شوند، آن‌ها را بصورت یک جدول خالی ارائه دهید. \n",
    "</div>"
   ]
  },
  {
   "cell_type": "code",
   "execution_count": null,
   "metadata": {},
   "outputs": [],
   "source": [
    "%%sql\n",
    "DROP TABLE IF EXISTS A;\n",
    "DROP TABLE IF EXISTS B;\n",
    "DROP TABLE IF EXISTS C;"
   ]
  }
 ],
 "metadata": {
  "celltoolbar": "Raw Cell Format",
  "kernelspec": {
   "display_name": "Python 2",
   "language": "python",
   "name": "python2"
  },
  "language_info": {
   "codemirror_mode": {
    "name": "ipython",
    "version": 2
   },
   "file_extension": ".py",
   "mimetype": "text/x-python",
   "name": "python",
   "nbconvert_exporter": "python",
   "pygments_lexer": "ipython2",
   "version": "2.7.15"
  }
 },
 "nbformat": 4,
 "nbformat_minor": 2
}

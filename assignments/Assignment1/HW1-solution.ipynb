{
 "cells": [
  {
   "cell_type": "code",
   "execution_count": null,
   "metadata": {},
   "outputs": [],
   "source": [
    "%load_ext sql\n",
    "%sql sqlite:///flights.db"
   ]
  },
  {
   "cell_type": "markdown",
   "metadata": {},
   "source": [
    "<div dir=\"rtl\" style=\"font-family:Tahoma\">\n",
    "\n",
    "تمرین شماره ۱\n",
    "=======\n",
    "\n",
    "### توضیحات کلی:\n",
    "\n",
    "**_این بخش را با دقت بخوانید_**\n",
    "\n",
    "\n",
    "* ابتدا باید ماژول `prettytable` را نصب نمایید تا بتوانید اسکریپ‌ها را اجرا کنید.. (برای مثال `pip install --user prettytable`)\n",
    "* پایگاه داده‌ی `flights.db` را از http://ftp.yazd.ac.ir/FTP/New%20FTP/Courses/CS/Database-fall2018/flights.db دانلود کنید و آن را در همان پوشه‌ای که این Jupyter notebook هست قرار دهید. \n",
    "* سلول بالای این نوت‌بوک را اجرا کنید (با فشردن شیفت+اینتر) تا پایگاه داده‌ی `flights.db` بارگزاری شود.\n",
    "* شما **می‌توانید** سلول‌های جدیدی در این نوت‌بوک ایجاد کنید، مثلا برای تست، عیب‌یابی یا کاوش اطلاعات. در واقع توصیه‌ی ما این هست که حتما این کار را انجام دهید.\n",
    "* وقتی عبارت `In [*]:` را در سمت چپ سلولی که در حال اجرایش هستید، مشاهده می‌کنید، بدین معنیست که کد یا درخواست شما در حال اجراست.\n",
    "    * **اگر سلول هنگ کرد (یعنی برای مدت زمان زیادی اجرایش ادامه پیدا کرد) برای ریستارت کردن ارتباط SQL، باید کل کرنل پایتون را ریستارت کنید**\n",
    "    * برای ریستارت کردن کرنل پایتون میتوانید از منوی بالای صفحه استفاده کنید: \"Kernel >> Restart & Clear Output\" و سپس سلول بالای این صفحه را مجددا اجرا کنید تا اتصال به پایگاه داده مجددا انجام شود.\n",
    "* به خاطر داشته باشید:\n",
    "    * <div dir=\"ltr\">%sql [SQL]</div> برای کوئری‌های _تک خطی_ هست.\n",
    "    * <div dir=\"ltr\">%%sql [SQL]</div> برای کوئری‌های _چند خطی_ هست.\n",
    "* اجرای `submit.py` کوئری‌ها را اجرا خواهد کرد و نتایج آنها را پرینت می کند. \n",
    "* نتایج صحیح کوئری‌های در فایل `correct_output.txt` قرار دارد.\n",
    "  * برای چک کردن درستی راه حلتان میتوانید یکی از دو دستور زیر را اجرا کنید \n",
    "    * `python sanity_check.py`\n",
    "    * `python submit.py > my_output; diff my_output correct_output.txt`\n",
    "   * **فایل `submit.py` که شامل راه حل‌های شماست باید کاملا با این خروجی مطابقت داشته باشد.** به این معنی که:\n",
    "       * نام ستون‌ها باید کاملا مطابق **همان نام** در فایل `correct_output.txt` باشند\n",
    "       * ستون‌ها باید **به همان ترتیب** که در فایل `correct_output.txt` آمده‌است قرار بگیرند\n",
    "\n",
    "### توضیحات ارسال تمرین:\n",
    " * فایل iPython notebook مربوط به این تمرین را ارسال **_نکنید_**.\n",
    " * هر کدام از کوئری‌هایتان را به مکان مشخص شده برای همان کوئری درون اسکریپت `submit.py` کپی کنید.\n",
    "   * دستورات `%sql` or `%%sql` را کپی **_نکنید_** و فقط کوئری را کپی کنید.\n",
    "   * ما کوئری‌های شما را روی یک پایگاه داده‌ی دیگر با همین شما ولی مقادیر متفاوتی اجرا کرده و بصورت اتوماتیک نمره‌دهی می‌کنیم. بنابراین، هیچ مقدار ثابتی که مختص مقادیر این پایگاه داده هست را درون کوئری‌هایتان قرار ندهید. همچنین، همه‌ی کوئری‌هایتان باید از جداول موجود در پایگاه داده استفاده کنند.\n",
    " * **پس از قرار دادن جواب‌هایتان درون فایل `submit.py`، این فایل را در قسمت مربوط به همین تمرین در سامیاد آپلود کنید**\n",
    "\n",
    "_خوش بگذره!_\n",
    "</div>"
   ]
  },
  {
   "cell_type": "markdown",
   "metadata": {},
   "source": [
    "<div dir=\"rtl\" style=\"font-family:Tahoma\">\n",
    "    \n",
    "مقدمه، تاخیر پروازها\n",
    "------------------------\n",
    "<div dir=\"rtl\" style=\"font-family:Tahoma\">\n",
    "هیچ کسی تاخیر پرواز را دوست نداره، شما چطور؟\n",
    "\n",
    "</div>\n",
    "<div dir=\"rtl\" style=\"font-family:Tahoma\">\n",
    "در این تمرین میخواهیم با استفاده از یک دیتاست جالب از اطلاعات پرواز کمک بگیریم و دلایل و تعارضات زمان سفر را بهتر بفهمیم.\n",
    "</div>\n",
    "<div dir=\"rtl\" style=\"font-family:Tahoma\">\n",
    "حالا که شما استاد SQL شدید، شاید بتونید به من کمک کنید!\n",
    "</div>"
   ]
  },
  {
   "cell_type": "markdown",
   "metadata": {},
   "source": [
    "----"
   ]
  },
  {
   "cell_type": "markdown",
   "metadata": {},
   "source": [
    "<div dir=\"rtl\" style=\"font-family:Tahoma\">\n",
    "در این تمرین از زبان SQL برای کاوش در تاخیر‌های سفر خطوط هواپیمایی کشور آمریکا در ماه جولای سال ۲۰۱۷ استفاده می‌کنیم.\n",
    "</div>\n",
    "<div dir=\"rtl\" style=\"font-family:Tahoma\">\n",
    "برای شروع اجازه بدید که به رابطه‌ی اصلی که در این پایگاه‌داده که به شما داده شده، نگاهی بیاندازیم\n",
    "</div>"
   ]
  },
  {
   "cell_type": "code",
   "execution_count": null,
   "metadata": {},
   "outputs": [],
   "source": [
    "%%sql\n",
    "SELECT * \n",
    "FROM flight_delays \n",
    "WHERE origin = 'SFO'\n",
    "LIMIT 3;"
   ]
  },
  {
   "cell_type": "markdown",
   "metadata": {},
   "source": [
    "<div dir=\"rtl\" style=\"font-family:Tahoma\">\n",
    "جالبه! این جدول خیلی ستون داره! حالا چند تا رکورد داره؟\n",
    "</div>"
   ]
  },
  {
   "cell_type": "code",
   "execution_count": null,
   "metadata": {},
   "outputs": [],
   "source": [
    "%%sql\n",
    "SELECT COUNT(*) AS num_rows\n",
    "FROM flight_delays"
   ]
  },
  {
   "cell_type": "markdown",
   "metadata": {},
   "source": [
    "<div dir=\"rtl\" style=\"font-family:Tahoma\">\n",
    "یه عالمه رکورد! خدا رو شکر که نباید دستی جوابهایی که لازم داریم را حساب کنیم...\n",
    "</div>\n",
    "\n",
    "<div dir=\"rtl\" style=\"font-family:Tahoma\">\n",
    "شما لازم نیست که داده‌های بیشتری را وارد پایگاه داده کنید، ولی میتونید توضیحاتی در مورد هر ستون این جدول را اینجا پیدا کنید: <a href=https://www.transtats.bts.gov/DL_SelectFields.asp?Table_ID=236\">https://www.transtats.bts.gov/DL_SelectFields.asp?Table_ID=236</a>.\n",
    "</div>\n",
    "\n",
    "<div dir=\"rtl\" style=\"font-family:Tahoma\">\n",
    "بعلاوه، ما یک سری جدول دیگه هم که میتونه برای نشون دادن اطلاعات عددی موجود در جدول بالا به شما کمک کنه رو هم توی این پایگاه داده قرار دادیم. برای مثال، `airline_id`، `airport_id` و `day_of_week`  که در برخی کوئری‌های این تمرین لازم هستند.\n",
    "</div>\n",
    "\n",
    "<div dir=\"rtl\" style=\"font-family:Tahoma\">\n",
    "لطفا از سلول بعدی برای کاوش جداول `airlines`، `airports` و `weekdays` استفاده کنید:\n",
    "</div>"
   ]
  },
  {
   "cell_type": "code",
   "execution_count": null,
   "metadata": {},
   "outputs": [],
   "source": [
    "%%sql \n",
    "SELECT * from airlines LIMIT 3"
   ]
  },
  {
   "cell_type": "code",
   "execution_count": null,
   "metadata": {},
   "outputs": [],
   "source": [
    "%%sql \n",
    "SELECT * from airports LIMIT 3"
   ]
  },
  {
   "cell_type": "code",
   "execution_count": null,
   "metadata": {},
   "outputs": [],
   "source": [
    "%%sql \n",
    "SELECT * from weekdays LIMIT 3"
   ]
  },
  {
   "cell_type": "markdown",
   "metadata": {},
   "source": [
    "<div dir=\"rtl\" style=\"font-family:Tahoma\">\n",
    "عالی! حالا میتونیم شروع کنیم...\n",
    "</div>"
   ]
  },
  {
   "cell_type": "markdown",
   "metadata": {},
   "source": [
    "<div dir=\"rtl\" style=\"font-family:Tahoma\">\n",
    "    \n",
    "کوئری ۱: میانگین تاخیر پروازها چقدر هست? (۱۰ نمره)\n",
    "------------------------\n",
    "</div>\n",
    "\n",
    "<div dir=\"rtl\" style=\"font-family:Tahoma\">\n",
    "برای اینکه کمی با داده‌ها ارتباط برقرار کنیم، با یه کوئری ساده شروع میکنیم!\n",
    "</div>\n",
    "\n",
    "<div dir=\"rtl\" style=\"font-family:Tahoma\">\n",
    "در سلول پایین، یک کوئری SQL بنویسید که میانگین تاخیر در رسیدن پرواز (موجود درستون arr_delay) را بر روی کل دیتاست برگرداند.</div>"
   ]
  },
  {
   "cell_type": "code",
   "execution_count": null,
   "metadata": {},
   "outputs": [],
   "source": [
    "%%sql\n",
    "SELECT AVG(arr_delay) FROM flight_delays"
   ]
  },
  {
   "cell_type": "markdown",
   "metadata": {},
   "source": [
    "<div dir=\"rtl\" style=\"font-family:Tahoma\">\n",
    "\n",
    "کوئری ۲: بدترین تأخیر پرواز چقدر هست؟ (۱۰ نمره)\n",
    "------------------------\n",
    "\n",
    "</div>\n",
    "\n",
    "<div dir=\"rtl\" style=\"font-family:Tahoma\">\n",
    "    جالبه! میانگین تاخیرها خیلی هم بد نیست! <span style=\"font-size:20px\">بدترین</span> چطور؟\n",
    "</div>\n",
    "\n",
    "<div dir=\"rtl\" style=\"font-family:Tahoma\">\n",
    "در سلول پایین، یک کوئری SQL بنویسید که بیشینه تاخیر در رسیدن پرواز (موجود درستون arr_delay) را بر روی کل دیتاست برگرداند.\n",
    "\n",
    "</div>"
   ]
  },
  {
   "cell_type": "code",
   "execution_count": null,
   "metadata": {},
   "outputs": [],
   "source": [
    "%%sql\n",
    "SELECT MAX(arr_delay) FROM flight_delays"
   ]
  },
  {
   "cell_type": "markdown",
   "metadata": {},
   "source": [
    "<div dir=\"rtl\" style=\"font-family:Tahoma\">\n",
    "    \n",
    "کوئری ۳: چه پروازی را خوب شد که نگرفتم؟ (۱۰ نمره)\n",
    "------------------------\n",
    "\n",
    "</div>\n",
    "<div dir=\"rtl\" style=\"font-family:Tahoma\">\n",
    "عجب! چقدر این پرواز کوئری قبلی تاخیر زیادی داشته. حالا چه پروازی بوده؟\n",
    "\n",
    "</div>\n",
    "\n",
    "<div dir=\"rtl\" style=\"font-family:Tahoma\">\n",
    "در سلول پایین، یک کوئری SQL بنویسید که پروازی را پیدا کند که بیشترین تاخیر در رسیدن پرواز (موجود درستون arr_delay) را بر روی کل دیتاست داشته ست و موارد زیر را برای آن پرواز برگرداند:\n",
    "    \n",
    "* carrier\n",
    "* flight number\n",
    "* origin city name\n",
    "* arrival city name\n",
    "* flight date\n",
    "</div>\n",
    "\n",
    "<div dir=\"rtl\" style=\"font-family:Tahoma\">\n",
    "به هیچ وجه  خروجی ماکسیمم تاخیری که در کوئری قبلی پیدا کردید را داخل این کوئری هارکد (hard-code) نکنید.\n",
    "\n",
    "</div>"
   ]
  },
  {
   "cell_type": "code",
   "execution_count": null,
   "metadata": {},
   "outputs": [],
   "source": [
    "%%sql\n",
    "SELECT carrier, fl_num, origin_city_name, dest_city_name, fl_date\n",
    "FROM   flight_delays\n",
    "WHERE  arr_delay = (SELECT MAX(arr_delay) FROM flight_delays)"
   ]
  },
  {
   "cell_type": "markdown",
   "metadata": {},
   "source": [
    "<div dir=\"rtl\" style=\"font-family:Tahoma\">\n",
    "    \n",
    "کوئری ۴: بدترین روزها برای سفر چه روزهایی هستند؟ (۱۰ نمره)\n",
    "------------------------\n",
    "\n",
    "</div>\n",
    "<div dir=\"rtl\" style=\"font-family:Tahoma\">\n",
    "میخواهیم بدترین روز برای سفر هوایی رو پیدا کنیم.\n",
    "</div>\n",
    "\n",
    "<div dir=\"rtl\" style=\"font-family:Tahoma\">\n",
    "در سلول پایین، یک کوئری SQL بنویسید که میانگین تاخیر در رسیدن پرواز (موجود درستون arr_delay) را برای هر روز هفته برگرداند و نتایج را بر اساس روز هفته مرتب کند. شمای رابطه ای که این کوئری برمیگرداند باید به شکل زیر باشد:\n",
    "\n",
    "* `weekday_name`\n",
    "* `average_delay`\n",
    "</div>\n",
    "\n",
    "<div dir=\"rtl\" style=\"font-family:Tahoma\">\n",
    "\n",
    "</div>\n",
    "<div dir=\"rtl\" style=\"font-family:Tahoma\">\n",
    "\n",
    "**توجه کنید:شماره‌ی روز هفته (weekday_id) را _برنگردانید_** (کمک: به جدول `weekdays` نگاه کنید و درون کوئری‌تان یک جوین با این جدول انجام دهید تا نام روزهای هفته را بدست آورید.)\n",
    "\n",
    "</div>"
   ]
  },
  {
   "cell_type": "code",
   "execution_count": null,
   "metadata": {},
   "outputs": [],
   "source": [
    "%%sql\n",
    "SELECT   w.weekday_name, AVG(fd.arr_delay) AS average_delay\n",
    "FROM     flight_delays fd, weekdays w\n",
    "WHERE    fd.day_of_week = w.weekday_id\n",
    "GROUP BY w.weekday_name\n",
    "ORDER BY average_delay DESC"
   ]
  },
  {
   "cell_type": "markdown",
   "metadata": {},
   "source": [
    "<div dir=\"rtl\" style=\"font-family:Tahoma\">\n",
    "\n",
    "کوئری ۵: چه خطوط هواپیمایی که از فرودگاه سانفرانسیسکو (SFO) پرواز خروجی دارند، کمترین تاخیر را دارند؟ (۱۰ نمره)\n",
    "------------------------\n",
    "</div>\n",
    "<div dir=\"rtl\" style=\"font-family:Tahoma\">\n",
    "حالا که میدونم چه روزی را نباید برای سفر انتخاب کنم، میخوام بدونم که از چه خط هوایی باید استفاده کنم که از فرودگاه سانفرانسیسکو (SFO) خارج بشم. از اونجایی که هنوز نمیدونم به چه مقصدی میخوام سفر کنم، لطفا فقط میانگین تاخیر ر برای خطوط هوایی که از فرودگاه سانفراسیسکو پرواز خروجی دارند را برای من محاسبه کنید.\n",
    "\n",
    "</div>\n",
    "<div dir=\"rtl\" style=\"font-family:Tahoma\">\n",
    "در سلول پایین، یک کوئری SQL بنویسید که میانگین تاخیر در رسیدن پرواز (در میان **همه‌ی** پروازها) را برای هر خط هوایی که حداقل یک پرواز خروجی از فرودگاه سانفرانسیسکو (SFO) داشته است را بصورت نزولی (بر روی میانگین زمان تاخیر پرواز ورودی) برگرداند.\n",
    "</div>\n",
    "<div dir=\"rtl\" style=\"font-family:Tahoma\">\n",
    "    \n",
    "**توجه کنید:شماره‌ی خط هوایی (airline_id) را _برنگردانید_** (کمک: به جدول `airlines` نگاه کنید و درون کوئری‌تان یک جوین با این جدول انجام دهید تا نام روزهای هفته را بدست آورید.)\n",
    "\n",
    "</div>"
   ]
  },
  {
   "cell_type": "code",
   "execution_count": null,
   "metadata": {},
   "outputs": [],
   "source": [
    "%%sql\n",
    "SELECT   line.airline_name, AVG(fd.arr_delay) AS average_delay\n",
    "FROM     flight_delays fd, airlines line\n",
    "WHERE    fd.airline_id = line.airline_id\n",
    "GROUP BY line.airline_name\n",
    "HAVING   line.airline_id IN (SELECT fd2.airline_id FROM flight_delays fd2 WHERE fd2.origin = 'SFO')\n",
    "ORDER BY average_delay DESC"
   ]
  },
  {
   "cell_type": "markdown",
   "metadata": {},
   "source": [
    "<div dir=\"rtl\" style=\"font-family:Tahoma\">\n",
    "\n",
    "کوئری ۶: چه نسبتی از خطوط هواپیمایی معمولا تاخیر دارند؟ (۱۰ نمره)\n",
    "------------------------\n",
    "</div>\n",
    "\n",
    "<div dir=\"rtl\" style=\"font-family:Tahoma\">\n",
    "\n",
    "چند تا از خطوط هواپیمایی معمولا تاخیر دارند؟\n",
    "\n",
    "</div>\n",
    "\n",
    "<div dir=\"rtl\" style=\"font-family:Tahoma\">\n",
    "در سلول پایین، یک کوئری SQL بنویسید که نسبتی از خطوط هواپیمایی (که در جدول flight_delays موجود هستند) که پروازهایشان بطور میانگین حداقل ۱۰ دقیقه تاخیر در رسیدن (موجود در ستون arr_delay) دارند را برگرداند. به هیچ وجه جمع تعداد خطوط هوایی را درون کوئری بصورت دستی وارد نکنید (هارکد نکنید) و  حتما در این کوئری حداقل یک عبارت HAVING به کار ببرید.\n",
    "</div>\n",
    "\n",
    "<div dir=\"rtl\" style=\"font-family:Tahoma\">\n",
    "    \n",
    "توجه کنید: `COUNT(*)` در پایگاه داده‌ی sqlite یک مقدار از نوع integer برمیگرداند. بنابراین، کوئری شما باید حداقل شامل یک `SELECT CAST (COUNT(*) AS float)` یا یک عبارت مثل `COUNT(*)*1.0` باشد.\n",
    "\n",
    "</div>\n"
   ]
  },
  {
   "cell_type": "code",
   "execution_count": null,
   "metadata": {},
   "outputs": [],
   "source": [
    "%%sql\n",
    "SELECT \n",
    "(SELECT CAST (COUNT(*) AS float) FROM flight_delays fd WHERE fd.arr_delay >= 10)\n",
    "/\n",
    "(SELECT CAST (COUNT(*) AS float) FROM flight_delays fd) AS late_proportion"
   ]
  },
  {
   "cell_type": "markdown",
   "metadata": {},
   "source": [
    "<div dir=\"rtl\" style=\"font-family:Tahoma\">\n",
    "\n",
    "کوئری ۷: تاخیر در پرواز خروجی چگونه بر تاخیر در رسیدن پرواز تاثیر می‌گذارد؟  (۱۰ نمره)\n",
    "------------------------\n",
    "\n",
    "</div>\n",
    "<div dir=\"rtl\" style=\"font-family:Tahoma\">\n",
    "اینطور که به نظر میاد، پرواز من تاخیر خواهد داشت! حالا میخوام بدونم که اگر پرواز من هنگام بلند شدن از زمین تاخیر داشته باشه، چطوری روی تاخیر در رسیدنش تاثیر داره؟\n",
    "</div>\n",
    "<div dir=\"rtl\" style=\"font-family:Tahoma\">\n",
    "    \n",
    "[کوواریانس نمونه (sample covariance)](https://en.wikipedia.org/wiki/Covariance) یک معیار برای تغییر وابسته‌ی دو متغیر هست. \n",
    "هرچه که کوواریانس بیشتر باشه، دو متغییر بصورت مشابه‌تری عمل می‌کنند و کوواریانس منفی نشان‌دهنده‌ی این هست که متغیرها بطور عکس یکدیگر عمل می‌کنند. فرمول محاسبه ی کوواریانس نمونه این هست:\n",
    "$$\n",
    "Cov(X,Y) = \\frac{1}{n-1} \\sum_{i=1}^n (x_i-\\hat{x})(y_i-\\hat{y})\n",
    "$$\n",
    "که دراین فرمول $x_i$ نشان‌دهنده‌ی $i$مین نمونه از $X$, $y_i$ نشان‌دهنده‌ی $i$مین نمونه از $Y$ و میانگین $X$ و $Y$ are توسط $\\bar{x}$ و $\\bar{y}$ نشان داده‌شده‌اند.\n",
    "\n",
    "</div>\n",
    "\n",
    "\n",
    "<div dir=\"rtl\" style=\"font-family:Tahoma\">\n",
    "در سلول پایین، یک کوئری SQL  بنویسید که کوواریانس را بین تاخیر خروجی (موجود در ستون dep_delay) و تاخیر ورودی (موجود در ستون arr_delay) را محاسبه کند.\n",
    "</div>"
   ]
  },
  {
   "cell_type": "code",
   "execution_count": null,
   "metadata": {},
   "outputs": [],
   "source": [
    "%%sql\n",
    "SELECT \n",
    "    (SELECT SUM((arr_delay - x_hat)*(dep_delay - y_hat))\n",
    "     FROM flight_delays,\n",
    "          (SELECT AVG(arr_delay) AS x_hat,AVG(dep_delay) AS y_hat FROM flight_delays))\n",
    "    / (SELECT COUNT(airline_id) - 1 FROM flight_delays) AS cov"
   ]
  },
  {
   "cell_type": "markdown",
   "metadata": {},
   "source": [
    "<div dir=\"rtl\" style=\"font-family:Tahoma\">\n",
    "\n",
    "کوئری ۸: یک هفته‌ی بد... (۱۰ نمره)\n",
    "------------------------\n",
    "\n",
    "</div>\n",
    "<div dir=\"rtl\" style=\"font-family:Tahoma\">\n",
    "چه خطوط هواپیمایی بیشترین افزایش مطلق (و نه نسبی) را در میانگین تاخیر در رسیدن را در آخرین هفته‌ی جولای (پروازهای بعد از ۲۴ جولای)  در مقایسه با روزهای قبل (پروازهای قبل از ۲۴ جولای) داشته‌اند؟\n",
    "\n",
    "\n",
    "</div>\n",
    "\n",
    "<div dir=\"rtl\" style=\"font-family:Tahoma\">\n",
    "در سلول پایین، یک کوئری SQL  بنویسید که نام خط هواپیمایی (و نه شناسه‌ی آن) با بیشترین افزایش مطلق در میانگین تاخیر در زمان رسیدن (موجود در ستون arr_delay) بین اولین ۲۳ روز از ماه جولای و روزهای ۲۴ تا ۳۱ ماه جولای را برگرداند. نام خط هواپیمایی و افزایش مطلق را برگردانید.\n",
    "</div>\n",
    "\n",
    "<div dir=\"rtl\" style=\"font-family:Tahoma\">\n",
    "\n",
    "نکته‌ی اول: با توجه به برخی [نکات sqlite برای کار با تاریخ](http://www.sqlite.org/lang_datefunc.html) شاید راحت‌تر باشد که از ستون `day_of_month` استفاده کنید.\n",
    "\n",
    "</div>\n",
    "<div dir=\"rtl\" style=\"font-family:Tahoma\">\n",
    "نکته‌ی دوم: شاید این سخت‌ترین کوئری در این تمرین باشد. این کوئری را به کوئری‌های کوچک‌تر بشکنید و کوئری‌های کوچک‌تر را یکی-یکی اجرا کنید و سپس با کنار هم گذاشتن کوئری‌های کوچک‌تر، نتیجه‌ی این تمرین را بسازید.\n",
    "\n",
    "</div>\n",
    "<div dir=\"rtl\" style=\"font-family:Tahoma\">\n",
    "کمک: شما میتوانید دو تا ساب‌کوئری را محاسبه کنید، یکی برای محسابه‌ی میانگین تاخیر در رسیدن پروازهایی که از ۲۴ جولای به بعد انجام شده‌ند و یکی برای محاسبه‌ی میانگین تاخیر رسیدن برای پروازهایی که قبل از ۲۴ جولای انجام شده‌اند و سپس این دو را با یکدیگر جوین کنید تا افزایش تاخیر را محاسبه کنید.\n",
    "</div>"
   ]
  },
  {
   "cell_type": "code",
   "execution_count": null,
   "metadata": {},
   "outputs": [],
   "source": [
    "%%sql\n",
    "SELECT first_period.airline_name, (first_period.avg_delay - second_period.avg_delay) AS delay_increase\n",
    "FROM (SELECT airline_name, AVG(arr_delay) AS avg_delay\n",
    "      FROM airlines a, flight_delays fd\n",
    "      WHERE fd.airline_id = a.airline_id AND\n",
    "            fd.month = 7 AND\n",
    "            fd.day_of_month < 24\n",
    "      GROUP BY a.airline_name) AS second_period,\n",
    "     (SELECT airline_name, AVG(arr_delay) AS avg_delay\n",
    "      FROM airlines a, flight_delays fd\n",
    "      WHERE fd.airline_id = a.airline_id AND\n",
    "            fd.month = 7 AND\n",
    "            fd.day_of_month >= 24\n",
    "      GROUP BY a.airline_name) AS first_period\n",
    "WHERE first_period.airline_name = second_period.airline_name\n",
    "ORDER BY delay_increase DESC\n",
    "LIMIT 1;"
   ]
  },
  {
   "cell_type": "markdown",
   "metadata": {},
   "source": [
    "<div dir=\"rtl\" style=\"font-family:Tahoma\">\n",
    "\n",
    "کوئری ۹: ماکسیمم کردن سود پرواز (۱۰ نمره)\n",
    "------------------------\n",
    "\n",
    "</div>\n",
    "<div dir=\"rtl\" style=\"font-family:Tahoma\">\n",
    "من میخوام هم به پرتلند (PDX) و هم  به یوجین (EUG) سفر کنم ولی نمیتونم هردوی اونها رو توی یک سفر بگنجونم. حالا برای اینکه از اعتبار مسافت هوایی استفاده کنم، میخواهم از یک شرکت هواپیمایی برای هر دوی این پروازها استفاده کنم. چه خطوط هواپیمایی هر دو مسیر SFO -> PDX و SFO -> EUG را سرویس‌دهی می‌کنند؟\n",
    "\n",
    "</div>\n",
    "\n",
    "<div dir=\"rtl\" style=\"font-family:Tahoma\">\n",
    "در سلول پایین، یک کوئری SQL  بنویسید که نام (و نه شناسه) خطوط هواپیمایی (بدون تکرار نام) که هر دو مسیر SFO -> PDX و SFO -> EUG را پوشش می‌دهند را برگرداند.\n",
    "</div>\n"
   ]
  },
  {
   "cell_type": "code",
   "execution_count": null,
   "metadata": {},
   "outputs": [],
   "source": [
    "%%sql\n",
    "SELECT   a.airline_name\n",
    "FROM     airlines a, flight_delays fd\n",
    "WHERE    a.airline_id = fd.airline_id AND\n",
    "         fd.airline_id IN (\n",
    "           SELECT airline_id FROM flight_delays WHERE origin='SFO' AND dest='PDX'\n",
    "           INTERSECT\n",
    "           SELECT airline_id FROM flight_delays WHERE origin='SFO' AND dest='EUG'\n",
    "         )\n",
    "GROUP BY a.airline_name"
   ]
  },
  {
   "cell_type": "markdown",
   "metadata": {},
   "source": [
    "<div dir=\"rtl\" style=\"font-family:Tahoma\">\n",
    "\n",
    "کوئری ۱۰: تصمیم‌گیری نهایی (۱۰ نمره)\n",
    "------------------------\n",
    "\n",
    "</div>\n",
    "<div dir=\"rtl\" style=\"font-family:Tahoma\">\n",
    "فرض کنیم یک نفر بخواد که از شیکاگو به سانفرانسیسکو سفر کنه و بتونه از هرکدوم از فرودگاه‌های شیکاگو در میدوی (MDW) و اوهیر (ORD) پرواز خروجی داشته باشه و به هر کدوم از فروگاه‌هایی سانفرانسیسکو در خود سانفرانسیسکو (SFO)، سن حوزه (SJC) یا اوکلند (OAK) فرود بیاد. حالا اگر این ماه هم مثل جولای ۲۰۱۷ باشه،  چه پروازی کمترین تاخیر در رسیدن را خواهد داشت در بین پروازهایی که از شیکاگو بعد از ساعت ۲ بعد از ظهر (به زمان محلی) پرواز می‌کنند؟\n",
    "</div>\n",
    "\n",
    "<div dir=\"rtl\" style=\"font-family:Tahoma\">\n",
    "در سلول پایین، یک کوئری SQL  بنویسید که میانگین تاخیر در رسیدن پروازهایی که از فرودگاه‌های MDW یا ORD بعد از ساعت ۲ بعد از ظهر به وقت محلی (از ستون crs_dep_time) خارج می‌شوند و به یکی از فرودگاه‌های SFO، SJC یا OAK وارد می‌شوند را برگرداند. نتایج را بر اساس فرودگاه خروجی و ورودی دسته‌بندی کنید و نتایج را بر اساس تاخیر در رسیدن بصورت نزولی مرتب کنید.\n",
    "</div>\n",
    "\n",
    "<div dir=\"rtl\" style=\"font-family:Tahoma\">\n",
    "توجه کنید: فیلد `crs_dep_time` از نوع integer است که بصورت hhmm فرمت‌دهی شده است. برای مثال 4:15 بعد از ظهر بصورت 1615 در این ستون ذخیره‌شده است.\n",
    "\n",
    "</div>"
   ]
  },
  {
   "cell_type": "code",
   "execution_count": null,
   "metadata": {},
   "outputs": [],
   "source": [
    "%%sql\n",
    "SELECT   origin, dest, AVG(arr_delay) AS avg_delay\n",
    "FROM     flight_delays\n",
    "WHERE    crs_dep_time > 1400 AND\n",
    "         (origin = 'MDW' OR origin = 'ORD') AND\n",
    "         (dest = 'SFO' OR dest = 'SJC' OR dest = 'OAK')\n",
    "GROUP BY origin_airport_id, dest_airport_id\n",
    "ORDER BY avg_delay desc"
   ]
  },
  {
   "cell_type": "markdown",
   "metadata": {},
   "source": [
    "<div dir=\"rtl\" style=\"font-family:Tahoma\">\n",
    "    \n",
    "## تمام شد! حالا می‌تونید جوابتون رو توی سامیاد بفرستید.\n",
    "\n",
    "</div>\n",
    "<div dir=\"rtl\" style=\"font-family:Tahoma\">\n",
    "    \n",
    " * لطفا به نکات ارسال جواب که در بالای این نوت بوک نوشته شده در موقع ارسال جوابتان دقت کنید.\n",
    "\n",
    "</div>"
   ]
  }
 ],
 "metadata": {
  "kernelspec": {
   "display_name": "Python 2",
   "language": "python",
   "name": "python2"
  },
  "language_info": {
   "codemirror_mode": {
    "name": "ipython",
    "version": 2
   },
   "file_extension": ".py",
   "mimetype": "text/x-python",
   "name": "python",
   "nbconvert_exporter": "python",
   "pygments_lexer": "ipython2",
   "version": "2.7.15"
  }
 },
 "nbformat": 4,
 "nbformat_minor": 2
}
